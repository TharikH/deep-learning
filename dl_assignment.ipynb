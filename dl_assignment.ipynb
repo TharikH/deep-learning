{
  "nbformat": 4,
  "nbformat_minor": 0,
  "metadata": {
    "colab": {
      "provenance": [],
      "authorship_tag": "ABX9TyMcmLSB1cY0OlGwlMPFfvKy",
      "include_colab_link": true
    },
    "kernelspec": {
      "name": "python3",
      "display_name": "Python 3"
    },
    "language_info": {
      "name": "python"
    }
  },
  "cells": [
    {
      "cell_type": "markdown",
      "metadata": {
        "id": "view-in-github",
        "colab_type": "text"
      },
      "source": [
        "<a href=\"https://colab.research.google.com/github/TharikH/deep-learning/blob/main/dl_assignment.ipynb\" target=\"_parent\"><img src=\"https://colab.research.google.com/assets/colab-badge.svg\" alt=\"Open In Colab\"/></a>"
      ]
    },
    {
      "cell_type": "code",
      "execution_count": 1,
      "metadata": {
        "id": "WxC5XjBomovq"
      },
      "outputs": [],
      "source": [
        "import numpy as np\n",
        "import matplotlib.pyplot as plt\n",
        "from keras.datasets import fashion_mnist"
      ]
    },
    {
      "cell_type": "code",
      "source": [
        "(X_train, Y_train), (X_test, Y_test) = fashion_mnist.load_data()"
      ],
      "metadata": {
        "id": "uib1izEEoToJ",
        "colab": {
          "base_uri": "https://localhost:8080/"
        },
        "outputId": "2596fb1c-9c8a-441b-8d09-caac72ac4aa9"
      },
      "execution_count": 2,
      "outputs": [
        {
          "output_type": "stream",
          "name": "stdout",
          "text": [
            "Downloading data from https://storage.googleapis.com/tensorflow/tf-keras-datasets/train-labels-idx1-ubyte.gz\n",
            "29515/29515 [==============================] - 0s 0us/step\n",
            "Downloading data from https://storage.googleapis.com/tensorflow/tf-keras-datasets/train-images-idx3-ubyte.gz\n",
            "26421880/26421880 [==============================] - 0s 0us/step\n",
            "Downloading data from https://storage.googleapis.com/tensorflow/tf-keras-datasets/t10k-labels-idx1-ubyte.gz\n",
            "5148/5148 [==============================] - 0s 0us/step\n",
            "Downloading data from https://storage.googleapis.com/tensorflow/tf-keras-datasets/t10k-images-idx3-ubyte.gz\n",
            "4422102/4422102 [==============================] - 0s 0us/step\n"
          ]
        }
      ]
    },
    {
      "cell_type": "code",
      "source": [
        "num_train_samples = X_train.shape[0]\n",
        "num_size = X_train.shape[1] * X_train.shape[2]\n",
        "num_test_samples = X_test.shape[0]"
      ],
      "metadata": {
        "id": "fEFcyAeBo_D6"
      },
      "execution_count": 3,
      "outputs": []
    },
    {
      "cell_type": "code",
      "source": [
        "num_size"
      ],
      "metadata": {
        "colab": {
          "base_uri": "https://localhost:8080/"
        },
        "id": "tRTo19OU1L3p",
        "outputId": "b47ba9d4-a818-4574-9e86-f47c4b31f531"
      },
      "execution_count": 4,
      "outputs": [
        {
          "output_type": "execute_result",
          "data": {
            "text/plain": [
              "784"
            ]
          },
          "metadata": {},
          "execution_count": 4
        }
      ]
    },
    {
      "cell_type": "markdown",
      "source": [
        "plot 1 sample image for each class"
      ],
      "metadata": {
        "id": "SdNI9lnQ2oIM"
      }
    },
    {
      "cell_type": "code",
      "source": [
        "d=set()\n",
        "plt.figure(figsize=(10,10))\n",
        "class_names = ['T-shirt/top', 'Trouser', 'Pullover', 'Dress', 'Coat',\n",
        "               'Sandal', 'Shirt', 'Sneaker', 'Bag', 'Ankle boot']\n",
        "    \n",
        "k=0\n",
        "for i in range(num_train_samples):\n",
        "  if Y_train[i] not in d:\n",
        "    d.add(Y_train[i])\n",
        "    plt.subplot(5,5,k+1)\n",
        "    plt.xticks([])\n",
        "    plt.yticks([])\n",
        "    plt.grid(False)\n",
        "    plt.imshow(X_train[i], cmap=plt.cm.binary)\n",
        "    plt.xlabel(class_names[Y_train[i]])\n",
        "    k+=1\n",
        "    if k == 10:\n",
        "      break\n",
        "\n",
        "plt.show()\n"
      ],
      "metadata": {
        "colab": {
          "base_uri": "https://localhost:8080/",
          "height": 251
        },
        "id": "AZtSRC16y5b5",
        "outputId": "a86f9be3-812d-408a-ef3f-fd73b68dafd8"
      },
      "execution_count": 5,
      "outputs": [
        {
          "output_type": "display_data",
          "data": {
            "text/plain": [
              "<Figure size 720x720 with 10 Axes>"
            ],
            "image/png": "[encoded data removed]"
          },
          "metadata": {}
        }
      ]
    },
    {
      "cell_type": "code",
      "source": [
        "#parameters \n",
        "\n"
      ],
      "metadata": {
        "id": "OaupL4eL2QoO"
      },
      "execution_count": 6,
      "outputs": []
    },
    {
      "cell_type": "code",
      "source": [
        "#class having all required activations\n",
        "\n",
        "class Activations():\n",
        "  def __init__(self):\n",
        "    self.activation_dict={\n",
        "        \"sigmoid\":self.sigmoid,\n",
        "        \"softmax\":self.softmax\n",
        "    }\n",
        "\n",
        "  def activate(self, activation_function = \"sigmoid\"):\n",
        "    return self.activation_dict[activation_function]\n",
        "\n",
        "  def sigmoid(self, x):\n",
        "    z = 1/(1 + np.exp(x))\n",
        "    return z\n",
        "\n",
        "  def softmax(self, x):\n",
        "    max_element = max(x)\n",
        "    z = np.exp(x - max_element)\n",
        "    total = sum(z)\n",
        "    z = z/total\n",
        "    return z"
      ],
      "metadata": {
        "id": "TfjhpkZr-T5I"
      },
      "execution_count": 7,
      "outputs": []
    },
    {
      "cell_type": "code",
      "source": [
        "class WeightInit():\n",
        "  def __init__(self):\n",
        "    pass\n",
        "  \n",
        "  def zeroInit(self, shape):\n",
        "    x = np.zeros(shape)\n",
        "    return x\n",
        "\n",
        "  def randomInit(self, shape):\n",
        "    x = np.random.rand(*shape)\n",
        "    return x\n",
        "  \n",
        "  def xavierInit():\n",
        "    pass\n"
      ],
      "metadata": {
        "id": "tVu-t4PF6tiJ"
      },
      "execution_count": 42,
      "outputs": []
    },
    {
      "cell_type": "code",
      "source": [
        "# Base class for all neural networks\n",
        "class NeuralNetwork():\n",
        "  def __init__(self):\n",
        "    pass\n",
        "  def getParameters(self):\n",
        "    pass\n",
        "  def feedforward():\n",
        "    pass\n",
        "  def backpropogation():\n",
        "    pass\n",
        "  def test(self):\n",
        "    pass\n",
        "  def train(self):\n",
        "    pass\n"
      ],
      "metadata": {
        "id": "5lWfym6w4BKL"
      },
      "execution_count": 43,
      "outputs": []
    },
    {
      "cell_type": "code",
      "source": [
        "# Neural Network for this particular neural network\n",
        "class NN(NeuralNetwork):\n",
        "  def __init__(self, num_samples = 100, input_size = 784, output_size = 10, num_hidden_layer = 3, hidden_layer_size=np.array([4, 4, 4]), data_name = \"Fashion_mnsit\", hidden_layer_activation=\"sigmoid\", output_layer_activation=\"softmax\"):\n",
        "    self.num_samples = num_samples\n",
        "    self.input_size = input_size\n",
        "    self.output_size = output_size\n",
        "    self.num_hidden_layer = num_hidden_layer\n",
        "    self.hidden_layer_size = hidden_layer_size\n",
        "    self.W, self.b = self.initializeWeights()\n",
        "    self.hidden_layer_activation = hidden_layer_activation\n",
        "    self.output_layer_activation = output_layer_activation\n",
        "    self.activation_function = Activations()\n",
        "    self.activate_hidden = self.activation_function.activate(hidden_layer_activation)\n",
        "    self.activate_output = self.activation_function.activate(output_layer_activation)\n",
        "    self.parameters = {\n",
        "        \"data_name\":data_name,\n",
        "        \"num_samples\":num_samples,\n",
        "        \"input_size\":input_size,\n",
        "        \"output_size\":output_size,\n",
        "        \"num_hidden_layer\":num_hidden_layer,\n",
        "        \"hidden_layer_size\":hidden_layer_size,\n",
        "        \"hidden_layer_activation\":hidden_layer_activation,\n",
        "        \"output_layer_activation\":output_layer_activation\n",
        "    }\n",
        "\n",
        "  def getParameters(self):\n",
        "    return self.parameters\n",
        "\n",
        "  def initializeWeights(self):\n",
        "    W = []\n",
        "    b= []\n",
        "    input_size = self.input_size\n",
        "    weight_init = WeightInit()\n",
        "    for i in range(self.num_hidden_layer):\n",
        "      output_size = self.hidden_layer_size[i]\n",
        "      W.append(weight_init.randomInit((input_size, output_size )))\n",
        "      b.append(weight_init.randomInit((output_size, 1 )))\n",
        "      input_size = output_size\n",
        "    \n",
        "    output_size = self.output_size\n",
        "\n",
        "    W.append(weight_init.randomInit((input_size, output_size )))\n",
        "    b.append(weight_init.randomInit((output_size, 1 )))\n",
        "\n",
        "    return W, b\n",
        "\n",
        "\n",
        "  def feedforward(self, x):\n",
        "    hidden_layer_input = self.activate_hidden(self.W[0].T @ x + self.b[0])\n",
        "\n",
        "    for i in range(1,self.num_hidden_layer):\n",
        "      hidden_layer_output=self.activate_hidden(self.W[i].T @ hidden_layer_input + self.b[i])\n",
        "      hidden_layer_input = hidden_layer_output\n",
        "\n",
        "    output = self.activate_output(self.W[self.num_hidden_layer].T @ hidden_layer_input + self.b[self.num_hidden_layer])\n",
        "\n",
        "    return output\n",
        "\n",
        "  def backpropogation(self, x, y):\n",
        "\n",
        "    pass\n",
        "  "
      ],
      "metadata": {
        "id": "EPQ7zGjg6gEk"
      },
      "execution_count": 44,
      "outputs": []
    },
    {
      "cell_type": "code",
      "source": [
        "nn = NN()\n",
        "x = X_train[1].reshape(784,1)\n",
        "# print(x)\n",
        "a=nn.feedforward(x/255);\n",
        "print(a,Y_train[1])\n"
      ],
      "metadata": {
        "colab": {
          "base_uri": "https://localhost:8080/"
        },
        "id": "GMaTOGnTMt7U",
        "outputId": "e0ca768a-4ece-4a45-ed13-4c28c075049f"
      },
      "execution_count": 45,
      "outputs": [
        {
          "output_type": "stream",
          "name": "stdout",
          "text": [
            "[[0.13274099]\n",
            " [0.09028463]\n",
            " [0.15310322]\n",
            " [0.12623015]\n",
            " [0.06461673]\n",
            " [0.07307223]\n",
            " [0.05924532]\n",
            " [0.09683001]\n",
            " [0.08288793]\n",
            " [0.1209888 ]] 0\n"
          ]
        }
      ]
    },
    {
      "cell_type": "code",
      "source": [
        "[[0.10539113]\n",
        " [0.08926113]\n",
        " [0.0888939 ]\n",
        " [0.12474406]\n",
        " [0.12139945]\n",
        " [0.07945756]\n",
        " [0.07704813]\n",
        " [0.16081162]\n",
        " [0.09699479]\n",
        " [0.05599822]] 9\n"
      ],
      "metadata": {
        "id": "SgPgiXrKQaX2",
        "colab": {
          "base_uri": "https://localhost:8080/",
          "height": 132
        },
        "outputId": "779637bf-ac3e-46d4-cacf-8bff254a134d"
      },
      "execution_count": 39,
      "outputs": [
        {
          "output_type": "error",
          "ename": "SyntaxError",
          "evalue": "ignored",
          "traceback": [
            "\u001b[0;36m  File \u001b[0;32m\"<ipython-input-39-27d915fe2c45>\"\u001b[0;36m, line \u001b[0;32m10\u001b[0m\n\u001b[0;31m    [0.05599822]] 9\u001b[0m\n\u001b[0m                  ^\u001b[0m\n\u001b[0;31mSyntaxError\u001b[0m\u001b[0;31m:\u001b[0m invalid syntax\n"
          ]
        }
      ]
    },
    {
      "cell_type": "code",
      "source": [],
      "metadata": {
        "id": "u_nG9bau8l3Z"
      },
      "execution_count": null,
      "outputs": []
    }
  ]
}