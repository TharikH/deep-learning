{
  "cells": [
    {
      "cell_type": "markdown",
      "metadata": {
        "id": "view-in-github",
        "colab_type": "text"
      },
      "source": [
        "<a href=\"https://colab.research.google.com/github/TharikH/deep-learning/blob/main/dl_assignment.ipynb\" target=\"_parent\"><img src=\"https://colab.research.google.com/assets/colab-badge.svg\" alt=\"Open In Colab\"/></a>"
      ]
    },
    {
      "cell_type": "code",
      "execution_count": 1,
      "metadata": {
        "colab": {
          "base_uri": "https://localhost:8080/"
        },
        "id": "WxC5XjBomovq",
        "outputId": "59fa29a0-5f77-4e0e-f298-f2fb9741b33d"
      },
      "outputs": [
        {
          "output_type": "stream",
          "name": "stdout",
          "text": [
            "Looking in indexes: https://pypi.org/simple, https://us-python.pkg.dev/colab-wheels/public/simple/\n",
            "Collecting wandb\n",
            "  Downloading wandb-0.13.11-py3-none-any.whl (2.0 MB)\n",
            "\u001b[2K     \u001b[90m━━━━━━━━━━━━━━━━━━━━━━━━━━━━━━━━━━━━━━━━\u001b[0m \u001b[32m2.0/2.0 MB\u001b[0m \u001b[31m39.1 MB/s\u001b[0m eta \u001b[36m0:00:00\u001b[0m\n",
            "\u001b[?25hRequirement already satisfied: PyYAML in /usr/local/lib/python3.9/dist-packages (from wandb) (6.0)\n",
            "Collecting appdirs>=1.4.3\n",
            "  Downloading appdirs-1.4.4-py2.py3-none-any.whl (9.6 kB)\n",
            "Requirement already satisfied: psutil>=5.0.0 in /usr/local/lib/python3.9/dist-packages (from wandb) (5.4.8)\n",
            "Collecting GitPython!=3.1.29,>=1.0.0\n",
            "  Downloading GitPython-3.1.31-py3-none-any.whl (184 kB)\n",
            "\u001b[2K     \u001b[90m━━━━━━━━━━━━━━━━━━━━━━━━━━━━━━━━━━━━━━\u001b[0m \u001b[32m184.3/184.3 KB\u001b[0m \u001b[31m12.6 MB/s\u001b[0m eta \u001b[36m0:00:00\u001b[0m\n",
            "\u001b[?25hCollecting pathtools\n",
            "  Downloading pathtools-0.1.2.tar.gz (11 kB)\n",
            "  Preparing metadata (setup.py) ... \u001b[?25l\u001b[?25hdone\n",
            "Collecting setproctitle\n",
            "  Downloading setproctitle-1.3.2-cp39-cp39-manylinux_2_5_x86_64.manylinux1_x86_64.manylinux_2_17_x86_64.manylinux2014_x86_64.whl (30 kB)\n",
            "Requirement already satisfied: typing-extensions in /usr/local/lib/python3.9/dist-packages (from wandb) (4.5.0)\n",
            "Requirement already satisfied: protobuf!=4.21.0,<5,>=3.15.0 in /usr/local/lib/python3.9/dist-packages (from wandb) (3.19.6)\n",
            "Collecting sentry-sdk>=1.0.0\n",
            "  Downloading sentry_sdk-1.16.0-py2.py3-none-any.whl (184 kB)\n",
            "\u001b[2K     \u001b[90m━━━━━━━━━━━━━━━━━━━━━━━━━━━━━━━━━━━━━━\u001b[0m \u001b[32m184.3/184.3 KB\u001b[0m \u001b[31m10.6 MB/s\u001b[0m eta \u001b[36m0:00:00\u001b[0m\n",
            "\u001b[?25hCollecting docker-pycreds>=0.4.0\n",
            "  Downloading docker_pycreds-0.4.0-py2.py3-none-any.whl (9.0 kB)\n",
            "Requirement already satisfied: Click!=8.0.0,>=7.0 in /usr/local/lib/python3.9/dist-packages (from wandb) (8.1.3)\n",
            "Requirement already satisfied: requests<3,>=2.0.0 in /usr/local/lib/python3.9/dist-packages (from wandb) (2.25.1)\n",
            "Requirement already satisfied: setuptools in /usr/local/lib/python3.9/dist-packages (from wandb) (57.4.0)\n",
            "Requirement already satisfied: six>=1.4.0 in /usr/local/lib/python3.9/dist-packages (from docker-pycreds>=0.4.0->wandb) (1.15.0)\n",
            "Collecting gitdb<5,>=4.0.1\n",
            "  Downloading gitdb-4.0.10-py3-none-any.whl (62 kB)\n",
            "\u001b[2K     \u001b[90m━━━━━━━━━━━━━━━━━━━━━━━━━━━━━━━━━━━━━━━━\u001b[0m \u001b[32m62.7/62.7 KB\u001b[0m \u001b[31m4.7 MB/s\u001b[0m eta \u001b[36m0:00:00\u001b[0m\n",
            "\u001b[?25hRequirement already satisfied: certifi>=2017.4.17 in /usr/local/lib/python3.9/dist-packages (from requests<3,>=2.0.0->wandb) (2022.12.7)\n",
            "Requirement already satisfied: chardet<5,>=3.0.2 in /usr/local/lib/python3.9/dist-packages (from requests<3,>=2.0.0->wandb) (4.0.0)\n",
            "Requirement already satisfied: urllib3<1.27,>=1.21.1 in /usr/local/lib/python3.9/dist-packages (from requests<3,>=2.0.0->wandb) (1.26.14)\n",
            "Requirement already satisfied: idna<3,>=2.5 in /usr/local/lib/python3.9/dist-packages (from requests<3,>=2.0.0->wandb) (2.10)\n",
            "Collecting smmap<6,>=3.0.1\n",
            "  Downloading smmap-5.0.0-py3-none-any.whl (24 kB)\n",
            "Building wheels for collected packages: pathtools\n",
            "  Building wheel for pathtools (setup.py) ... \u001b[?25l\u001b[?25hdone\n",
            "  Created wheel for pathtools: filename=pathtools-0.1.2-py3-none-any.whl size=8806 sha256=ced363fbd0e8b68f55ba2928a9013ccc74b9287623f14927070e71a8db6700a1\n",
            "  Stored in directory: /root/.cache/pip/wheels/b7/0a/67/ada2a22079218c75a88361c0782855cc72aebc4d18d0289d05\n",
            "Successfully built pathtools\n",
            "Installing collected packages: pathtools, appdirs, smmap, setproctitle, sentry-sdk, docker-pycreds, gitdb, GitPython, wandb\n",
            "Successfully installed GitPython-3.1.31 appdirs-1.4.4 docker-pycreds-0.4.0 gitdb-4.0.10 pathtools-0.1.2 sentry-sdk-1.16.0 setproctitle-1.3.2 smmap-5.0.0 wandb-0.13.11\n"
          ]
        }
      ],
      "source": [
        "!pip install wandb\n",
        "import numpy as np\n",
        "import matplotlib.pyplot as plt\n",
        "from keras.datasets import fashion_mnist\n",
        "import copy\n",
        "import wandb"
      ]
    },
    {
      "cell_type": "code",
      "execution_count": 2,
      "metadata": {
        "id": "uib1izEEoToJ",
        "colab": {
          "base_uri": "https://localhost:8080/"
        },
        "outputId": "c78c9e2c-fbf4-4ded-e320-b645168c2473"
      },
      "outputs": [
        {
          "output_type": "stream",
          "name": "stdout",
          "text": [
            "Downloading data from https://storage.googleapis.com/tensorflow/tf-keras-datasets/train-labels-idx1-ubyte.gz\n",
            "29515/29515 [==============================] - 0s 0us/step\n",
            "Downloading data from https://storage.googleapis.com/tensorflow/tf-keras-datasets/train-images-idx3-ubyte.gz\n",
            "26421880/26421880 [==============================] - 0s 0us/step\n",
            "Downloading data from https://storage.googleapis.com/tensorflow/tf-keras-datasets/t10k-labels-idx1-ubyte.gz\n",
            "5148/5148 [==============================] - 0s 0us/step\n",
            "Downloading data from https://storage.googleapis.com/tensorflow/tf-keras-datasets/t10k-images-idx3-ubyte.gz\n",
            "4422102/4422102 [==============================] - 0s 0us/step\n"
          ]
        }
      ],
      "source": [
        "(X_train, Y_train), (X_test, Y_test) = fashion_mnist.load_data()"
      ]
    },
    {
      "cell_type": "code",
      "execution_count": 3,
      "metadata": {
        "id": "fEFcyAeBo_D6"
      },
      "outputs": [],
      "source": [
        "num_train_samples = X_train.shape[0]\n",
        "num_size = X_train.shape[1] * X_train.shape[2]\n",
        "num_test_samples = X_test.shape[0]"
      ]
    },
    {
      "cell_type": "code",
      "execution_count": 4,
      "metadata": {
        "colab": {
          "base_uri": "https://localhost:8080/"
        },
        "id": "tRTo19OU1L3p",
        "outputId": "54b66bc9-3c1b-45ba-c68f-c8baa834931f"
      },
      "outputs": [
        {
          "output_type": "execute_result",
          "data": {
            "text/plain": [
              "784"
            ]
          },
          "metadata": {},
          "execution_count": 4
        }
      ],
      "source": [
        "num_size"
      ]
    },
    {
      "cell_type": "markdown",
      "metadata": {
        "id": "SdNI9lnQ2oIM"
      },
      "source": [
        "plot 1 sample image for each class"
      ]
    },
    {
      "cell_type": "code",
      "execution_count": 5,
      "metadata": {
        "colab": {
          "base_uri": "https://localhost:8080/",
          "height": 255
        },
        "id": "AZtSRC16y5b5",
        "outputId": "86ecfbb4-8302-4d44-f53f-63ea31168a5c"
      },
      "outputs": [
        {
          "output_type": "display_data",
          "data": {
            "text/plain": [
              "<Figure size 720x720 with 10 Axes>"
            ],
            "image/png": "[encoded data removed]"
          },
          "metadata": {}
        }
      ],
      "source": [
        "d=set()\n",
        "plt.figure(figsize=(10,10))\n",
        "class_names = ['T-shirt/top', 'Trouser', 'Pullover', 'Dress', 'Coat',\n",
        "               'Sandal', 'Shirt', 'Sneaker', 'Bag', 'Ankle boot']\n",
        "    \n",
        "k=0\n",
        "for i in range(num_train_samples):\n",
        "  if Y_train[i] not in d:\n",
        "    d.add(Y_train[i])\n",
        "    plt.subplot(5,5,k+1)\n",
        "    plt.xticks([])\n",
        "    plt.yticks([])\n",
        "    plt.grid(False)\n",
        "    plt.imshow(X_train[i], cmap=plt.cm.binary)\n",
        "    plt.xlabel(class_names[Y_train[i]])\n",
        "    k+=1\n",
        "    if k == 10:\n",
        "      break\n",
        "\n",
        "plt.show()\n"
      ]
    },
    {
      "cell_type": "code",
      "execution_count": 6,
      "metadata": {
        "id": "OaupL4eL2QoO"
      },
      "outputs": [],
      "source": [
        "#parameters \n",
        "\n"
      ]
    },
    {
      "cell_type": "code",
      "execution_count": 31,
      "metadata": {
        "id": "TfjhpkZr-T5I"
      },
      "outputs": [],
      "source": [
        "#class having all required activations\n",
        "\n",
        "class Activations():\n",
        "  def __init__(self):\n",
        "    self.activation_dict={\n",
        "        \"sigmoid\":self.sigmoid,\n",
        "        \"softmax\":self.softmax,\n",
        "        \"tanh\":self.tanh,\n",
        "        \"relu\":self.relu\n",
        "    }\n",
        "    self.derivative_dict={\n",
        "        \"sigmoid\":self.sigmoidDerivative,\n",
        "        \"softmax\":self.softmaxDerivative,\n",
        "        \"tanh\":self.tanhDerivative,\n",
        "        \"relu\":self.reluDerivative\n",
        "    }\n",
        "\n",
        "  def activate(self, activation_function = \"sigmoid\"):\n",
        "    return self.activation_dict[activation_function]\n",
        "\n",
        "  def derivate(self,activation_function = \"sigmoid\"):\n",
        "    return self.derivative_dict[activation_function]\n",
        "\n",
        "  def sigmoid(self, x):\n",
        "    z = x.copy()\n",
        "    z[x < 0] = np.exp(x[x < 0])/(1 + np.exp(x[x<0]))\n",
        "    z[x >= 0] = 1/(1+np.exp(-x[x >= 0]))\n",
        "    return z\n",
        "\n",
        "  def softmax(self, x):\n",
        "    max_element = np.max(x,axis=0)\n",
        "    z = np.exp(x - max_element)\n",
        "    total = sum(z)\n",
        "    z = z/total\n",
        "    return z\n",
        "  \n",
        "  def tanh(self, x):\n",
        "    return np.tanh(x)\n",
        "\n",
        "  def tanhDerivative(self, x):\n",
        "    z = self.tanh(x)\n",
        "    return 1 - z**2\n",
        "\n",
        "  def softmaxDerivative(self,x):\n",
        "    pass\n",
        "  \n",
        "  def sigmoidDerivative(self,x):\n",
        "    z = self.sigmoid(x)\n",
        "    return  z*(1 - z)\n",
        "  \n",
        "  def relu(self,x):\n",
        "    return np.maximum(x,0)\n",
        "  \n",
        "  def reluDerivative(self,x):\n",
        "    z = x.copy()\n",
        "    z[x < 0]=0\n",
        "    z[x > 0]=1\n",
        "    return z"
      ]
    },
    {
      "cell_type": "code",
      "execution_count": 32,
      "metadata": {
        "id": "znaRtyTqZ-dT"
      },
      "outputs": [],
      "source": [
        "# class having all losses and its derivatives\n",
        "class Loss():\n",
        "  def __init__(self):\n",
        "    pass\n",
        "  def crossEntropy(self ,Y_hat, Y):\n",
        "    loss=0\n",
        "    num_samples = Y_hat.shape[1]\n",
        "    for i in range(num_samples):\n",
        "      loss+=np.log(Y_hat[:,i][Y[i]] if Y_hat[:,i][Y[i]] != 0 else 1e-5)\n",
        "\n",
        "    return -loss/num_samples\n",
        "\n",
        "  def findOneHotVector(self,Y_hat, Y):\n",
        "    vector = np.zeros(Y_hat.shape)\n",
        "    for i in range(Y_hat.shape[1]):\n",
        "      vector[:,i][Y[i]] = 1\n",
        "    \n",
        "    return vector\n",
        "\n",
        "\n",
        "\n",
        "  def crossEntropyDerivative(self,Y_hat, Y):\n",
        "    derivative = np.zeros(Y_hat.shape)\n",
        "    for i in range(Y_hat.shape[1]):\n",
        "      derivative[:,i][Y[i]] = 1/(Y_hat[:,i][Y[i]])\n",
        "    return derivative\n",
        "    "
      ]
    },
    {
      "cell_type": "code",
      "execution_count": 33,
      "metadata": {
        "id": "tVu-t4PF6tiJ"
      },
      "outputs": [],
      "source": [
        "# class having all the weight initializations\n",
        "class WeightInit():\n",
        "  def __init__(self,weight_name):\n",
        "    self.weight_name = weight_name\n",
        "    self.weight_dict={\n",
        "        \"zero\":self.zeroInit,\n",
        "        \"random\":self.randomInit,\n",
        "        \"xavier\":self.xavierInit\n",
        "    }\n",
        "\n",
        "  def initializeWeight(self):\n",
        "    return self.weight_dict[self.weight_name]\n",
        "    \n",
        "  \n",
        "  def zeroInit(self, shape, flag=0):\n",
        "    x = np.zeros(shape)\n",
        "    return x\n",
        "\n",
        "  def randomInit(self, shape, flag=0):\n",
        "    x = np.random.normal(loc=0,scale=1,size=shape)\n",
        "    return x\n",
        "\n",
        "  \n",
        "  def xavierInit(self, shape, flag=0):\n",
        "    x = np.random.randn(*shape) * np.sqrt(2/shape[0]) if flag == 0 else self.zeroInit(shape)\n",
        "    return x\n",
        "\n",
        "  \n"
      ]
    },
    {
      "cell_type": "code",
      "execution_count": 34,
      "metadata": {
        "id": "5lWfym6w4BKL"
      },
      "outputs": [],
      "source": [
        "# Base class for all neural networks\n",
        "\n",
        "class NeuralNetwork():\n",
        "  def __init__(self):\n",
        "    pass\n",
        "  def getParameters(self):\n",
        "    pass\n",
        "  def feedforward():\n",
        "    pass\n",
        "  def backpropogation():\n",
        "    pass\n",
        "  def test(self):\n",
        "    pass\n",
        "  def train(self):\n",
        "    pass\n"
      ]
    },
    {
      "cell_type": "code",
      "execution_count": 35,
      "metadata": {
        "id": "V2gS7xaQ50Hd"
      },
      "outputs": [],
      "source": [
        "\n",
        "\n",
        "\n",
        "# classes having all the optimizers\n",
        "class Optimizer():\n",
        "  def __init__(self,optimizer_name=\"gd\"):\n",
        "    self.optimizer_name = optimizer_name\n",
        "    self.history = 0\n",
        "    self.optimizer_dict={\n",
        "        \"gd\":self.gradient_descent,\n",
        "        \"sgd\":self.gradient_descent,\n",
        "        \"momentum\":self.momentum,\n",
        "        \"nesterov\":self.nesterov,\n",
        "        \"rmsprop\":self.rmsprop,\n",
        "        \"adam\" : self.adam,\n",
        "        \"nadam\" : self.nadam\n",
        "    }\n",
        "\n",
        "  def optimize(self):\n",
        "    return self.optimizer_dict[self.optimizer_name]\n",
        "    \n",
        "  \n",
        "  def gradient_descent(self, nn, X, Y, X_val, Y_val, loss, lr, epochs, batch_size,indexes_for_batch,parameter = 0, weight_decay = 0):\n",
        "\n",
        "    num_data = X.shape[1]\n",
        "\n",
        "    for epoch in range(epochs):\n",
        "      for batch in range(0,num_data,batch_size):\n",
        "        X_batch = X[:,indexes_for_batch[batch:batch + batch_size]]\n",
        "        Y_batch = Y[indexes_for_batch[batch:batch + batch_size]]\n",
        "\n",
        "        # self.W,self.b = self.initializeWeights()\n",
        "        a_values,h_values = nn.forwardpropogation(X_batch)\n",
        "        delta_W, delta_b = nn.backpropogation(X_batch,Y_batch,a_values, h_values, loss)\n",
        "        # print(np.sum(delta_W[0], axis = 0))\n",
        "        for j in range(nn.num_hidden_layer + 1):\n",
        "          nn.W[j] = nn.W[j] - lr * delta_W[nn.num_hidden_layer - j] - lr*weight_decay*nn.W[j]\n",
        "          nn.b[j] = nn.b[j] - lr * delta_b[nn.num_hidden_layer - j] - lr*weight_decay*nn.b[j]\n",
        "\n",
        "      # Y_hat = nn.feedforward(X)\n",
        "      # loss_value = loss.crossEntropy(Y_hat,Y)\n",
        "      # print(f\"epoch: {epoch} => loss = {loss_value}\")\n",
        "      y_val_predict = nn.feedforward(X_val)\n",
        "      y_train_predict = nn.feedforward(X)\n",
        "\n",
        "      validation_loss = loss.crossEntropy(y_val_predict,Y_val)\n",
        "      training_loss = loss.crossEntropy(y_train_predict,Y)\n",
        "\n",
        "      validation_accuracy = nn.calculateAccuracy(X_valid, Y_val)\n",
        "      training_accuracy = nn.calculateAccuracy(X, Y)\n",
        "\n",
        "      \n",
        "      wandb.log({'validation_loss': validation_loss,\n",
        "                'training_loss': training_loss,\n",
        "                'validation_accuracy': validation_accuracy,\n",
        "                'training_accuracy': training_accuracy\n",
        "                })\n",
        "\n",
        "  def momentum(self, nn, X, Y, X_val, Y_val, loss, lr, epochs, batch_size,indexes_for_batch,parameter = 0.9, weight_decay = 0):\n",
        "    num_data = X.shape[1]\n",
        "    ut_w,ut_b = nn.initializeWeights(\"zero\")\n",
        "    beta = parameter\n",
        "\n",
        "    for epoch in range(epochs):\n",
        "      for batch in range(0,num_data,batch_size):\n",
        "        X_batch = X[:,indexes_for_batch[batch:batch + batch_size]]\n",
        "        Y_batch = Y[indexes_for_batch[batch:batch + batch_size]]\n",
        "\n",
        "        # self.W,self.b = self.initializeWeights()\n",
        "        a_values,h_values = nn.forwardpropogation(X_batch)\n",
        "        delta_W, delta_b = nn.backpropogation(X_batch,Y_batch,a_values, h_values, loss)\n",
        "        # print(np.sum(delta_W[0], axis = 0))\n",
        "        for j in range(nn.num_hidden_layer + 1):\n",
        "          ut_w[j] = beta*ut_w[j] + delta_W[nn.num_hidden_layer - j]\n",
        "          ut_b[j] = beta*ut_b[j] + delta_b[nn.num_hidden_layer - j] \n",
        "\n",
        "          nn.W[j] = nn.W[j] - lr * ut_w[j] - lr*weight_decay*nn.W[j]\n",
        "          nn.b[j] = nn.b[j] - lr * ut_b[j] - lr*weight_decay*nn.b[j]\n",
        "\n",
        "      # Y_hat = nn.feedforward(X)\n",
        "      # loss_value = loss.crossEntropy(Y_hat,Y)\n",
        "      # print(f\"epoch: {epoch} => loss = {loss_value}\")\n",
        "      y_val_predict = nn.feedforward(X_val)\n",
        "      y_train_predict = nn.feedforward(X)\n",
        "\n",
        "      validation_loss = loss.crossEntropy(y_val_predict,Y_val)\n",
        "      training_loss = loss.crossEntropy(y_train_predict,Y)\n",
        "\n",
        "      validation_accuracy = nn.calculateAccuracy(X_valid, Y_val)\n",
        "      training_accuracy = nn.calculateAccuracy(X, Y)\n",
        "\n",
        "      \n",
        "      wandb.log({'validation_loss': validation_loss,\n",
        "                'training_loss': training_loss,\n",
        "                'validation_accuracy': validation_accuracy,\n",
        "                'training_accuracy': training_accuracy\n",
        "                })\n",
        "\n",
        "\n",
        "  def nesterov(self, nn, X, Y, X_val, Y_val, loss, lr, epochs, batch_size,indexes_for_batch,parameter = 0.9, weight_decay = 0):\n",
        "    num_data = X.shape[1]\n",
        "    ut_w,ut_b = nn.initializeWeights(\"zero\")\n",
        "    beta = parameter\n",
        "\n",
        "\n",
        "    for epoch in range(epochs):\n",
        "      for batch in range(0,num_data,batch_size):\n",
        "        X_batch = X[:,indexes_for_batch[batch:batch + batch_size]]\n",
        "        Y_batch = Y[indexes_for_batch[batch:batch + batch_size]]\n",
        "  \n",
        "        # self.W,self.b = self.initializeWeights()\n",
        "        a_values,h_values = nn.forwardpropogation(X_batch)\n",
        "\n",
        "        old_W = copy.deepcopy(nn.W)\n",
        "        old_b = copy.deepcopy(nn.b)\n",
        "        \n",
        "        for k in range(nn.num_hidden_layer + 1):\n",
        "          nn.W[k] = nn.W[k] - beta *  ut_w[k]\n",
        "          nn.b[k] = nn.b[k] - beta *  ut_b[k]\n",
        "\n",
        "        \n",
        "        delta_W, delta_b = nn.backpropogation(X_batch,Y_batch,a_values, h_values, loss)\n",
        "        # print(np.sum(delta_W[0], axis = 0))\n",
        "        for j in range(nn.num_hidden_layer + 1):\n",
        "          ut_w[j] = beta*ut_w[j] + delta_W[nn.num_hidden_layer - j]\n",
        "          ut_b[j] = beta*ut_b[j] + delta_b[nn.num_hidden_layer - j] \n",
        "\n",
        "          nn.W[j] = old_W[j] - lr * ut_w[j]\n",
        "          nn.b[j] = old_b[j] - lr * ut_b[j]\n",
        "\n",
        "      # Y_hat = nn.feedforward(X)\n",
        "      # loss_value = loss.crossEntropy(Y_hat,Y)\n",
        "      # print(f\"epoch: {epoch} => loss = {loss_value}\")\n",
        "      y_val_predict = nn.feedforward(X_val)\n",
        "      y_train_predict = nn.feedforward(X)\n",
        "\n",
        "      validation_loss = loss.crossEntropy(y_val_predict,Y_val)\n",
        "      training_loss = loss.crossEntropy(y_train_predict,Y)\n",
        "\n",
        "      validation_accuracy = nn.calculateAccuracy(X_valid, Y_val)\n",
        "      training_accuracy = nn.calculateAccuracy(X, Y)\n",
        "\n",
        "      \n",
        "      wandb.log({'validation_loss': validation_loss,\n",
        "                'training_loss': training_loss,\n",
        "                'validation_accuracy': validation_accuracy,\n",
        "                'training_accuracy': training_accuracy\n",
        "                })\n",
        "    \n",
        "\n",
        "\n",
        "  def rmsprop(self, nn, X, Y,X_val, Y_val, loss, lr, epochs, batch_size,indexes_for_batch,parameter = 0.9,epsilon = 0.1, weight_decay = 0):\n",
        "    num_data = X.shape[1]\n",
        "    vt_w,vt_b = nn.initializeWeights(\"zero\")\n",
        "    beta = parameter\n",
        "\n",
        "    for epoch in range(epochs):\n",
        "      for batch in range(0,num_data,batch_size):\n",
        "        X_batch = X[:,indexes_for_batch[batch:batch + batch_size]]\n",
        "        Y_batch = Y[indexes_for_batch[batch:batch + batch_size]]\n",
        "\n",
        "        # self.W,self.b = self.initializeWeights()\n",
        "        a_values,h_values = nn.forwardpropogation(X_batch)\n",
        "        delta_W, delta_b = nn.backpropogation(X_batch,Y_batch,a_values, h_values, loss)\n",
        "        # print(np.sum(delta_W[0], axis = 0))\n",
        "        for j in range(nn.num_hidden_layer + 1):\n",
        "          vt_w[j] = beta*vt_w[j] + (1 - beta) * np.multiply(delta_W[nn.num_hidden_layer - j],delta_W[nn.num_hidden_layer - j]) \n",
        "          vt_b[j] = beta*vt_b[j] + (1 - beta) * np.multiply(delta_b[nn.num_hidden_layer - j],delta_b[nn.num_hidden_layer - j])\n",
        "\n",
        "          nn.W[j] = nn.W[j] - np.divide(lr * delta_W[nn.num_hidden_layer - j],np.sqrt(vt_w[j] + epsilon))\n",
        "          nn.b[j] = nn.b[j] - np.divide(lr * delta_b[nn.num_hidden_layer - j],np.sqrt(vt_b[j] + epsilon))\n",
        "\n",
        "      # Y_hat = nn.feedforward(X)\n",
        "      # loss_value = loss.crossEntropy(Y_hat,Y)\n",
        "      # print(f\"epoch: {epoch} => loss = {loss_value}\")\n",
        "      y_val_predict = nn.feedforward(X_val)\n",
        "      y_train_predict = nn.feedforward(X)\n",
        "\n",
        "      validation_loss = loss.crossEntropy(y_val_predict,Y_val)\n",
        "      training_loss = loss.crossEntropy(y_train_predict,Y)\n",
        "\n",
        "      validation_accuracy = nn.calculateAccuracy(X_valid, Y_val)\n",
        "      training_accuracy = nn.calculateAccuracy(X, Y)\n",
        "\n",
        "      \n",
        "      wandb.log({'validation_loss': validation_loss,\n",
        "                'training_loss': training_loss,\n",
        "                'validation_accuracy': validation_accuracy,\n",
        "                'training_accuracy': training_accuracy\n",
        "                })\n",
        "    \n",
        "  def adam(self, nn, X, Y, X_val, Y_val, loss, lr, epochs, batch_size,indexes_for_batch,parameter = 0.9,epsilon = 0.1, parameter2 = 0.999, weight_decay = 0):\n",
        "    num_data = X.shape[1]\n",
        "    vt_w,vt_b = nn.initializeWeights(\"zero\")\n",
        "    mt_w,mt_b = nn.initializeWeights(\"zero\")\n",
        "    beta1 = parameter\n",
        "    beta2 = parameter2\n",
        "    t=0\n",
        "\n",
        "    for epoch in range(epochs):\n",
        "      for batch in range(0,num_data,batch_size):\n",
        "        t+=1\n",
        "        X_batch = X[:,indexes_for_batch[batch:batch + batch_size]]\n",
        "        Y_batch = Y[indexes_for_batch[batch:batch + batch_size]]\n",
        "\n",
        "        # self.W,self.b = self.initializeWeights()\n",
        "        a_values,h_values = nn.forwardpropogation(X_batch)\n",
        "        delta_W, delta_b = nn.backpropogation(X_batch,Y_batch,a_values, h_values, loss)\n",
        "        # print(np.sum(delta_W[0], axis = 0))\n",
        "        for j in range(nn.num_hidden_layer + 1):\n",
        "          mt_w[j] = beta1 * mt_w[j] + (1 - beta1) * delta_W[nn.num_hidden_layer - j]\n",
        "          mt_b[j] = beta1 * mt_b[j] + (1 - beta1) * delta_b[nn.num_hidden_layer - j]\n",
        "\n",
        "          mt_w_dash = mt_w[j] / (1 - beta1 ** t)\n",
        "          mt_b_dash = mt_b[j] / (1 - beta1 ** t)\n",
        "\n",
        "\n",
        "          vt_w[j] = beta2*vt_w[j] + (1 - beta2) * np.multiply(delta_W[nn.num_hidden_layer - j],delta_W[nn.num_hidden_layer - j]) \n",
        "          vt_b[j] = beta2*vt_b[j] + (1 - beta2) * np.multiply(delta_b[nn.num_hidden_layer - j],delta_b[nn.num_hidden_layer - j])\n",
        "\n",
        "          vt_w_dash = vt_w[j] / (1 - beta2 ** t)\n",
        "          vt_b_dash = vt_b[j] / (1 - beta2 ** t)           \n",
        "\n",
        "          nn.W[j] = nn.W[j] - np.divide(lr * mt_w_dash,np.sqrt(vt_w_dash + epsilon)) - lr*weight_decay*nn.W[j]\n",
        "          nn.b[j] = nn.b[j] - np.divide(lr * mt_b_dash,np.sqrt(vt_b_dash + epsilon)) - lr*weight_decay*nn.b[j]\n",
        "\n",
        "      # Y_hat = nn.feedforward(X)\n",
        "      # loss_value = loss.crossEntropy(Y_hat,Y)\n",
        "      # print(f\"epoch: {epoch} => loss = {loss_value}\")\n",
        "      y_val_predict = nn.feedforward(X_val)\n",
        "      y_train_predict = nn.feedforward(X)\n",
        "\n",
        "      validation_loss = loss.crossEntropy(y_val_predict,Y_val)\n",
        "      training_loss = loss.crossEntropy(y_train_predict,Y)\n",
        "\n",
        "      validation_accuracy = nn.calculateAccuracy(X_valid, Y_val)\n",
        "      training_accuracy = nn.calculateAccuracy(X, Y)\n",
        "\n",
        "      \n",
        "      wandb.log({'validation_loss': validation_loss,\n",
        "                'training_loss': training_loss,\n",
        "                'validation_accuracy': validation_accuracy,\n",
        "                'training_accuracy': training_accuracy\n",
        "                })\n",
        "    \n",
        "  def nadam(self, nn, X, Y,X_val, Y_val, loss, lr, epochs, batch_size,indexes_for_batch,parameter = 0.9,epsilon = 0.1, parameter2 = 0.999, weight_decay = 0):\n",
        "    num_data = X.shape[1]\n",
        "    vt_w,vt_b = nn.initializeWeights(\"zero\")\n",
        "    mt_w,mt_b = nn.initializeWeights(\"zero\")\n",
        "    beta1 = parameter\n",
        "    beta2 = parameter2\n",
        "    t=0\n",
        "\n",
        "    for epoch in range(epochs):\n",
        "      for batch in range(0,num_data,batch_size):\n",
        "        t+=1\n",
        "        X_batch = X[:,indexes_for_batch[batch:batch + batch_size]]\n",
        "        Y_batch = Y[indexes_for_batch[batch:batch + batch_size]]\n",
        "\n",
        "        # self.W,self.b = self.initializeWeights()\n",
        "        a_values,h_values = nn.forwardpropogation(X_batch)\n",
        "        delta_W, delta_b = nn.backpropogation(X_batch,Y_batch,a_values, h_values, loss)\n",
        "        # print(np.sum(delta_W[0], axis = 0))\n",
        "        for j in range(nn.num_hidden_layer + 1):\n",
        "          mt_w[j] = beta1 * mt_w[j] + (1 - beta1) * delta_W[nn.num_hidden_layer - j]\n",
        "          mt_b[j] = beta1 * mt_b[j] + (1 - beta1) * delta_b[nn.num_hidden_layer - j]\n",
        "\n",
        "          mt_w_dash = mt_w[j] / (1 - beta1 ** t)\n",
        "          mt_b_dash = mt_b[j] / (1 - beta1 ** t)\n",
        "\n",
        "\n",
        "          vt_w[j] = beta2*vt_w[j] + (1 - beta2) * np.multiply(delta_W[nn.num_hidden_layer - j],delta_W[nn.num_hidden_layer - j]) \n",
        "          vt_b[j] = beta2*vt_b[j] + (1 - beta2) * np.multiply(delta_b[nn.num_hidden_layer - j],delta_b[nn.num_hidden_layer - j])\n",
        "\n",
        "          vt_w_dash = vt_w[j] / (1 - beta2 ** t)\n",
        "          vt_b_dash = vt_b[j] / (1 - beta2 ** t)           \n",
        "\n",
        "          w_update_numerator = lr * (beta1 * mt_w_dash + ((1 - beta1)* delta_W[nn.num_hidden_layer - j]/(1 - beta1 ** t)))\n",
        "          b_update_numerator = lr * (beta1 * mt_b_dash + ((1 - beta1)* delta_b[nn.num_hidden_layer - j]/(1 - beta1 ** t)))\n",
        "\n",
        "          nn.W[j] = nn.W[j] - np.divide(w_update_numerator,np.sqrt(vt_w_dash + epsilon)) - lr*weight_decay*nn.W[j]\n",
        "          nn.b[j] = nn.b[j] - np.divide(b_update_numerator,np.sqrt(vt_b_dash + epsilon)) - lr*weight_decay*nn.b[j]\n",
        "\n",
        "      # Y_hat = nn.feedforward(X)\n",
        "      # loss_value = loss.crossEntropy(Y_hat,Y)\n",
        "      # print(f\"epoch: {epoch} => loss = {loss_value}\")\n",
        "      y_val_predict = nn.feedforward(X_val)\n",
        "      y_train_predict = nn.feedforward(X)\n",
        "\n",
        "      validation_loss = loss.crossEntropy(y_val_predict,Y_val)\n",
        "      training_loss = loss.crossEntropy(y_train_predict,Y)\n",
        "\n",
        "      validation_accuracy = nn.calculateAccuracy(X_valid, Y_val)\n",
        "      training_accuracy = nn.calculateAccuracy(X, Y)\n",
        "\n",
        "      \n",
        "      wandb.log({'validation_loss': validation_loss,\n",
        "                'training_loss': training_loss,\n",
        "                'validation_accuracy': validation_accuracy,\n",
        "                'training_accuracy': training_accuracy\n",
        "                })\n",
        "    "
      ]
    },
    {
      "cell_type": "code",
      "execution_count": 36,
      "metadata": {
        "id": "EPQ7zGjg6gEk"
      },
      "outputs": [],
      "source": [
        "# Neural Network for this particular neural network\n",
        "\n",
        "class NN(NeuralNetwork):\n",
        "  def __init__(self, num_samples = 60000, input_size = 784, output_size = 10, num_hidden_layer = 3, hidden_layer_size=np.array([64,64,64]), data_name = \"Fashion_mnsit\", hidden_layer_activation=\"relu\", output_layer_activation=\"softmax\", weight_name=\"xavier\"):\n",
        "    self.num_samples = num_samples\n",
        "    self.input_size = input_size\n",
        "    self.output_size = output_size\n",
        "    self.num_hidden_layer = num_hidden_layer\n",
        "    self.hidden_layer_size = hidden_layer_size\n",
        "    self.W, self.b = self.initializeWeights(weight_name)\n",
        "    self.hidden_layer_activation = hidden_layer_activation\n",
        "    self.output_layer_activation = output_layer_activation\n",
        "    self.activation_function = Activations()\n",
        "    self.activate_hidden = self.activation_function.activate(hidden_layer_activation)\n",
        "    self.activate_hidden_derivative = self.activation_function.derivate(hidden_layer_activation)\n",
        "    self.activate_output = self.activation_function.activate(output_layer_activation)\n",
        "    self.parameters = {\n",
        "        \"data_name\":data_name,\n",
        "        \"num_samples\":num_samples,\n",
        "        \"input_size\":input_size,\n",
        "        \"output_size\":output_size,\n",
        "        \"num_hidden_layer\":num_hidden_layer,\n",
        "        \"hidden_layer_size\":hidden_layer_size,\n",
        "        \"hidden_layer_activation\":hidden_layer_activation,\n",
        "        \"output_layer_activation\":output_layer_activation,\n",
        "        \"weight_init\":weight_name\n",
        "    }\n",
        "\n",
        "  def getParameters(self):\n",
        "    return self.parameters\n",
        "\n",
        "  def initializeWeights(self, weight_name):\n",
        "    W = []\n",
        "    b= []\n",
        "    input_size = self.input_size\n",
        "    weight_init = WeightInit(weight_name).initializeWeight()\n",
        "    for i in range(self.num_hidden_layer):\n",
        "      output_size = self.hidden_layer_size[i]\n",
        "      W.append(weight_init((input_size, output_size ),0))\n",
        "      b.append(weight_init((output_size, 1 ),1))\n",
        "      input_size = output_size\n",
        "    \n",
        "    output_size = self.output_size\n",
        "\n",
        "    W.append(weight_init((input_size, output_size),0))\n",
        "    b.append(weight_init((output_size, 1),1))\n",
        "\n",
        "    return W, b\n",
        "\n",
        "  def calculateAccuracy(self, X, Y):\n",
        "    Y_hat = self.feedforward(X)\n",
        "    size = Y_hat.shape[1]\n",
        "    score=0\n",
        "    for i in range(size):\n",
        "      if(np.argmax(Y_hat[:,i]) ==  Y[i]):\n",
        "          score+=1\n",
        "\n",
        "    return score/size * 100\n",
        "\n",
        "  def feedforward(self, X):\n",
        "    a = self.W[0].T @ X + self.b[0]\n",
        "    hidden_layer_input = self.activate_hidden(a)\n",
        "\n",
        "    for i in range(1,self.num_hidden_layer):\n",
        "      a=self.W[i].T @ hidden_layer_input + self.b[i]\n",
        "      hidden_layer_output=self.activate_hidden(a)\n",
        "      hidden_layer_input = hidden_layer_output\n",
        "\n",
        "    a=self.W[self.num_hidden_layer].T @ hidden_layer_input + self.b[self.num_hidden_layer]\n",
        "    output = self.activate_output(a)\n",
        "\n",
        "    return output\n",
        "\n",
        "\n",
        "  def forwardpropogation(self, X):\n",
        "    a_values=[]\n",
        "    h_values=[]\n",
        "\n",
        "    a = self.W[0].T @ X + self.b[0]\n",
        "    hidden_layer_input = self.activate_hidden(a)\n",
        "    \n",
        "    a_values.append(a)\n",
        "    h_values.append(hidden_layer_input)\n",
        "\n",
        "    for i in range(1,self.num_hidden_layer):\n",
        "      a=self.W[i].T @ hidden_layer_input + self.b[i]\n",
        "      hidden_layer_output=self.activate_hidden(a)\n",
        "      hidden_layer_input = hidden_layer_output\n",
        "      a_values.append(a)\n",
        "      h_values.append(hidden_layer_input)\n",
        "\n",
        "    a=self.W[self.num_hidden_layer].T @ hidden_layer_input + self.b[self.num_hidden_layer]\n",
        "    output = self.activate_output(a)\n",
        "    a_values.append(a)\n",
        "    h_values.append(output)\n",
        "\n",
        "    return a_values,h_values\n",
        "\n",
        "  def backpropogation(self, X, Y, a_values, h_values, loss):\n",
        "    size = len(h_values)\n",
        "    data_size = Y.shape[0]\n",
        "    delta_ak = -(loss.findOneHotVector(h_values[size - 1],Y) - h_values[size - 1])\n",
        "    delta_W=[]\n",
        "    delta_b=[]\n",
        "\n",
        "    for k in range(size - 1,0,-1):\n",
        "      delta_wk = h_values[k-1] @ delta_ak.T\n",
        "      delta_bk = np.sum(delta_ak,axis=1)\n",
        "      delta_W.append(delta_wk/data_size)\n",
        "      delta_b.append(delta_bk.reshape(delta_bk.shape[0],1)/data_size)\n",
        "\n",
        "      delta_hk = self.W[k] @ delta_ak\n",
        "      # print(delta_hk.shape)\n",
        "      # print(self.activation_function.sigmoidDerivative(a_values[k-1]).shape)\n",
        "      delta_ak = np.multiply(self.activate_hidden_derivative(a_values[k-1]),delta_hk)\n",
        "\n",
        "    delta_wk = X @ delta_ak.T\n",
        "    delta_bk = np.sum(delta_ak,axis=1)\n",
        "    delta_W.append(delta_wk/data_size)\n",
        "    delta_b.append(delta_bk.reshape(delta_bk.shape[0],1)/data_size)\n",
        "\n",
        "    return delta_W,delta_b\n",
        "  \n",
        "  def training(self, X, Y, X_val, Y_val,loss = Loss() ,epochs = 10 , weight_decay = 0 ,optimizer_name=\"gd\", lr=0.01, batch_size=32,parameter=0.9):\n",
        "    optimize = Optimizer(optimizer_name).optimize()\n",
        "    \n",
        "    num_data = X.shape[1]\n",
        "    np.random.seed(1)\n",
        "\n",
        "    # Random shuffling of data\n",
        "    indexes_for_batch = np.arange(num_data)\n",
        "    np.random.shuffle(indexes_for_batch)\n",
        "\n",
        "    optimize(self, X, Y, X_val, Y_val ,loss, lr, epochs, batch_size, indexes_for_batch,parameter=0.9, weight_decay=weight_decay)\n",
        "\n",
        "    # print(f'train accuracy: {self.calculateAccuracy(X,Y)}')"
      ]
    },
    {
      "cell_type": "code",
      "execution_count": 37,
      "metadata": {
        "id": "wsFVNClaZ_Vs"
      },
      "outputs": [],
      "source": [
        "# # Split data to train and validation (10% of data)\n",
        "num_train_samples = 60000\n",
        "num_validate_samples = num_train_samples//10\n",
        "num_train_samples -= num_validate_samples\n",
        "\n",
        "X_valid = X_train[:num_validate_samples,:].reshape(num_validate_samples,num_size).T /255.0\n",
        "Y_valid = Y_train[:num_validate_samples]\n",
        "\n",
        "X = X_train[num_validate_samples:,:].reshape(num_train_samples,num_size).T / 255.0\n",
        "Y = Y_train[num_validate_samples:]\n",
        "\n",
        "def train():\n",
        "\n",
        "  wandb.init()\n",
        "\n",
        "  num_hidden_layer = wandb.config.batch_size\n",
        "  hidden_layer_size = np.full(num_hidden_layer,wandb.config.hidden_size)\n",
        "  hidden_layer_activation = wandb.config.activation\n",
        "  weight_name = wandb.config.weight_init\n",
        "  epochs = wandb.config.epochs\n",
        "  weight_decay = wandb.config.weight_decay\n",
        "  optimizer_name = wandb.config.optimizer\n",
        "  lr = wandb.config.lr\n",
        "  batch_size = wandb.config.batch_size\n",
        "\n",
        "  wandb.run.name = f'hln_{num_hidden_layer}_hls_{wandb.config.hidden_size}_hla_{hidden_layer_activation}_winit_{weight_name}_ep_{epochs}_op_{optimizer_name}_lr_{lr}_bs_{batch_size}_wd_{weight_decay}'\n",
        "\n",
        "  loss = Loss()\n",
        "  nn = NN(num_samples = num_train_samples, num_hidden_layer = num_hidden_layer, hidden_layer_size = hidden_layer_size, hidden_layer_activation = hidden_layer_activation, weight_name = weight_name)\n",
        "  nn.training(X, Y, X_valid, Y_valid, loss = loss, epochs = epochs, weight_decay = weight_decay, optimizer_name = optimizer_name,lr = lr, batch_size = batch_size)\n",
        "\n",
        "\n",
        "  y_val_predict = nn.feedforward(X_valid)\n",
        "  y_train_predict = nn.feedforward(X)\n",
        "\n",
        "  validation_loss = loss.crossEntropy(y_val_predict,Y_valid)\n",
        "  training_loss = loss.crossEntropy(y_train_predict,Y)\n",
        "\n",
        "  validation_accuracy = nn.calculateAccuracy(X_valid, Y_valid)\n",
        "  training_accuracy = nn.calculateAccuracy(X, Y)\n",
        "\n",
        "  \n",
        "  # wandb.log({'validation_loss': validation_loss,\n",
        "  #            'training_loss': training_loss,\n",
        "  #            'validation_accuracy': validation_accuracy,\n",
        "  #            'training_accuracy': training_accuracy\n",
        "  #            })\n",
        "\n"
      ]
    },
    {
      "cell_type": "code",
      "execution_count": 38,
      "metadata": {
        "colab": {
          "base_uri": "https://localhost:8080/",
          "height": 1000,
          "referenced_widgets": [
            "aead357d83c344cab11c49df31d21d66",
            "5419ea27de144f858ed70e1368466264",
            "1552dfdf57cf46f99fd39f346d81c3cf",
            "5dab221c3f98475395bfead112e729df",
            "0623bf508f6d4f8894c5545190ffa586",
            "f32036c2daad4945ab3762796be9b87b",
            "e160b272566b4fd99b25784be6ae2579",
            "26f25c1144284f1186d3efa316e2d9fe"
          ]
        },
        "id": "BaV_JvwppDeV",
        "outputId": "6b87a44b-3715-4144-b515-1512add93600"
      },
      "outputs": [
        {
          "output_type": "stream",
          "name": "stderr",
          "text": [
            "\u001b[34m\u001b[1mwandb\u001b[0m: \u001b[33mWARNING\u001b[0m If you're specifying your api key in code, ensure this code is not shared publicly.\n",
            "\u001b[34m\u001b[1mwandb\u001b[0m: \u001b[33mWARNING\u001b[0m Consider setting the WANDB_API_KEY environment variable, or running `wandb login` from the command line.\n",
            "\u001b[34m\u001b[1mwandb\u001b[0m: Appending key for api.wandb.ai to your netrc file: /root/.netrc\n"
          ]
        },
        {
          "output_type": "stream",
          "name": "stdout",
          "text": [
            "Create sweep with ID: wcvdojmr\n",
            "Sweep URL: https://wandb.ai/cs22m058/demo-project/sweeps/wcvdojmr\n"
          ]
        },
        {
          "output_type": "stream",
          "name": "stderr",
          "text": [
            "\u001b[34m\u001b[1mwandb\u001b[0m: Agent Starting Run: of4zam2x with config:\n",
            "\u001b[34m\u001b[1mwandb\u001b[0m: \tactivation: sigmoid\n",
            "\u001b[34m\u001b[1mwandb\u001b[0m: \tbatch_size: 32\n",
            "\u001b[34m\u001b[1mwandb\u001b[0m: \tepochs: 5\n",
            "\u001b[34m\u001b[1mwandb\u001b[0m: \thidden_size: 64\n",
            "\u001b[34m\u001b[1mwandb\u001b[0m: \tlr: 0.001\n",
            "\u001b[34m\u001b[1mwandb\u001b[0m: \tnum_hidden_layer: 5\n",
            "\u001b[34m\u001b[1mwandb\u001b[0m: \toptimizer: nesterov\n",
            "\u001b[34m\u001b[1mwandb\u001b[0m: \tweight_decay: 0.5\n",
            "\u001b[34m\u001b[1mwandb\u001b[0m: \tweight_init: xavier\n"
          ]
        },
        {
          "output_type": "display_data",
          "data": {
            "text/plain": [
              "<IPython.core.display.HTML object>"
            ],
            "text/html": [
              "Tracking run with wandb version 0.13.11"
            ]
          },
          "metadata": {}
        },
        {
          "output_type": "display_data",
          "data": {
            "text/plain": [
              "<IPython.core.display.HTML object>"
            ],
            "text/html": [
              "Run data is saved locally in <code>/content/wandb/run-20230311_063938-of4zam2x</code>"
            ]
          },
          "metadata": {}
        },
        {
          "output_type": "display_data",
          "data": {
            "text/plain": [
              "<IPython.core.display.HTML object>"
            ],
            "text/html": [
              "Syncing run <strong><a href='https://wandb.ai/cs22m058/demo-project/runs/of4zam2x' target=\"_blank\">solar-sweep-1</a></strong> to <a href='https://wandb.ai/cs22m058/demo-project' target=\"_blank\">Weights & Biases</a> (<a href='https://wandb.me/run' target=\"_blank\">docs</a>)<br/>Sweep page: <a href='https://wandb.ai/cs22m058/demo-project/sweeps/wcvdojmr' target=\"_blank\">https://wandb.ai/cs22m058/demo-project/sweeps/wcvdojmr</a>"
            ]
          },
          "metadata": {}
        },
        {
          "output_type": "display_data",
          "data": {
            "text/plain": [
              "<IPython.core.display.HTML object>"
            ],
            "text/html": [
              " View project at <a href='https://wandb.ai/cs22m058/demo-project' target=\"_blank\">https://wandb.ai/cs22m058/demo-project</a>"
            ]
          },
          "metadata": {}
        },
        {
          "output_type": "display_data",
          "data": {
            "text/plain": [
              "<IPython.core.display.HTML object>"
            ],
            "text/html": [
              " View sweep at <a href='https://wandb.ai/cs22m058/demo-project/sweeps/wcvdojmr' target=\"_blank\">https://wandb.ai/cs22m058/demo-project/sweeps/wcvdojmr</a>"
            ]
          },
          "metadata": {}
        },
        {
          "output_type": "display_data",
          "data": {
            "text/plain": [
              "<IPython.core.display.HTML object>"
            ],
            "text/html": [
              " View run at <a href='https://wandb.ai/cs22m058/demo-project/runs/of4zam2x' target=\"_blank\">https://wandb.ai/cs22m058/demo-project/runs/of4zam2x</a>"
            ]
          },
          "metadata": {}
        },
        {
          "output_type": "stream",
          "name": "stderr",
          "text": [
            "\u001b[34m\u001b[1mwandb\u001b[0m: \u001b[32m\u001b[41mERROR\u001b[0m Error while calling W&B API: could not find agent a8w72rjr during agentHeartbeat (<Response [404]>)\n",
            "Exception in thread Thread-95:\n",
            "Traceback (most recent call last):\n",
            "  File \"/usr/local/lib/python3.9/dist-packages/wandb/sdk/lib/retry.py\", line 131, in __call__\n",
            "    result = self._call_fn(*args, **kwargs)\n",
            "  File \"/usr/local/lib/python3.9/dist-packages/wandb/sdk/internal/internal_api.py\", line 242, in execute\n",
            "    return self.client.execute(*args, **kwargs)  # type: ignore\n",
            "  File \"/usr/local/lib/python3.9/dist-packages/wandb/vendor/gql-0.2.0/wandb_gql/client.py\", line 52, in execute\n",
            "    result = self._get_result(document, *args, **kwargs)\n",
            "  File \"/usr/local/lib/python3.9/dist-packages/wandb/vendor/gql-0.2.0/wandb_gql/client.py\", line 60, in _get_result\n",
            "    return self.transport.execute(document, *args, **kwargs)\n",
            "  File \"/usr/local/lib/python3.9/dist-packages/wandb/vendor/gql-0.2.0/wandb_gql/transport/requests.py\", line 39, in execute\n",
            "    request.raise_for_status()\n",
            "  File \"/usr/local/lib/python3.9/dist-packages/requests/models.py\", line 943, in raise_for_status\n",
            "    raise HTTPError(http_error_msg, response=self)\n",
            "requests.exceptions.HTTPError: 404 Client Error: Not Found for url: https://api.wandb.ai/graphql\n",
            "\n",
            "During handling of the above exception, another exception occurred:\n",
            "\n",
            "Traceback (most recent call last):\n",
            "  File \"/usr/local/lib/python3.9/dist-packages/wandb/sdk/internal/internal_api.py\", line 2119, in agent_heartbeat\n",
            "    response = self.gql(\n",
            "  File \"/usr/local/lib/python3.9/dist-packages/wandb/sdk/internal/internal_api.py\", line 214, in gql\n",
            "    ret = self._retry_gql(\n",
            "  File \"/usr/local/lib/python3.9/dist-packages/wandb/sdk/lib/retry.py\", line 147, in __call__\n",
            "    retry_timedelta_triggered = check_retry_fn(e)\n",
            "  File \"/usr/local/lib/python3.9/dist-packages/wandb/util.py\", line 1031, in no_retry_auth\n",
            "    raise CommError(f\"Permission denied to access {wandb.run.path}\")\n",
            "wandb.errors.CommError: Permission denied to access cs22m058/demo-project/of4zam2x\n",
            "\n",
            "During handling of the above exception, another exception occurred:\n",
            "\n",
            "Traceback (most recent call last):\n",
            "  File \"/usr/lib/python3.9/threading.py\", line 980, in _bootstrap_inner\n",
            "    self.run()\n",
            "  File \"/usr/lib/python3.9/threading.py\", line 917, in run\n",
            "    self._target(*self._args, **self._kwargs)\n",
            "  File \"/usr/local/lib/python3.9/dist-packages/wandb/agents/pyagent.py\", line 166, in _heartbeat\n",
            "    commands = self._api.agent_heartbeat(self._agent_id, {}, run_status)\n",
            "  File \"/usr/local/lib/python3.9/dist-packages/wandb/apis/internal.py\", line 144, in agent_heartbeat\n",
            "    return self.api.agent_heartbeat(*args, **kwargs)\n",
            "  File \"/usr/local/lib/python3.9/dist-packages/wandb/sdk/internal/internal_api.py\", line 2130, in agent_heartbeat\n",
            "    message = ast.literal_eval(e.args[0])[\"message\"]\n",
            "  File \"/usr/lib/python3.9/ast.py\", line 62, in literal_eval\n",
            "    node_or_string = parse(node_or_string, mode='eval')\n",
            "  File \"/usr/lib/python3.9/ast.py\", line 50, in parse\n",
            "    return compile(source, filename, mode, flags,\n",
            "  File \"<unknown>\", line 1\n",
            "    Permission denied to access cs22m058/demo-project/of4zam2x\n",
            "               ^\n",
            "SyntaxError: invalid syntax\n",
            "\u001b[34m\u001b[1mwandb\u001b[0m: Ctrl + C detected. Stopping sweep.\n"
          ]
        },
        {
          "output_type": "display_data",
          "data": {
            "text/plain": [
              "<IPython.core.display.HTML object>"
            ],
            "text/html": [
              "Waiting for W&B process to finish... <strong style=\"color:green\">(success).</strong>"
            ]
          },
          "metadata": {}
        },
        {
          "output_type": "display_data",
          "data": {
            "text/plain": [
              "VBox(children=(Label(value='0.001 MB of 0.001 MB uploaded (0.000 MB deduped)\\r'), FloatProgress(value=1.0, max…"
            ],
            "application/vnd.jupyter.widget-view+json": {
              "version_major": 2,
              "version_minor": 0,
              "model_id": "aead357d83c344cab11c49df31d21d66"
            }
          },
          "metadata": {}
        },
        {
          "output_type": "display_data",
          "data": {
            "text/plain": [
              "<IPython.core.display.HTML object>"
            ],
            "text/html": [
              "<style>\n",
              "    table.wandb td:nth-child(1) { padding: 0 10px; text-align: left ; width: auto;} td:nth-child(2) {text-align: left ; width: 100%}\n",
              "    .wandb-row { display: flex; flex-direction: row; flex-wrap: wrap; justify-content: flex-start; width: 100% }\n",
              "    .wandb-col { display: flex; flex-direction: column; flex-basis: 100%; flex: 1; padding: 10px; }\n",
              "    </style>\n",
              "<div class=\"wandb-row\"><div class=\"wandb-col\"><h3>Run history:</h3><br/><table class=\"wandb\"><tr><td>training_accuracy</td><td>█▁▁▁</td></tr><tr><td>training_loss</td><td>▁███</td></tr><tr><td>validation_accuracy</td><td>█▁▁▁</td></tr><tr><td>validation_loss</td><td>▁███</td></tr></table><br/></div><div class=\"wandb-col\"><h3>Run summary:</h3><br/><table class=\"wandb\"><tr><td>training_accuracy</td><td>9.9963</td></tr><tr><td>training_loss</td><td>2.30403</td></tr><tr><td>validation_accuracy</td><td>10.03333</td></tr><tr><td>validation_loss</td><td>2.30477</td></tr></table><br/></div></div>"
            ]
          },
          "metadata": {}
        },
        {
          "output_type": "display_data",
          "data": {
            "text/plain": [
              "<IPython.core.display.HTML object>"
            ],
            "text/html": [
              " View run <strong style=\"color:#cdcd00\">solar-sweep-1</strong> at: <a href='https://wandb.ai/cs22m058/demo-project/runs/of4zam2x' target=\"_blank\">https://wandb.ai/cs22m058/demo-project/runs/of4zam2x</a><br/>Synced 5 W&B file(s), 0 media file(s), 0 artifact file(s) and 0 other file(s)"
            ]
          },
          "metadata": {}
        },
        {
          "output_type": "display_data",
          "data": {
            "text/plain": [
              "<IPython.core.display.HTML object>"
            ],
            "text/html": [
              "Find logs at: <code>./wandb/run-20230311_063938-of4zam2x/logs</code>"
            ]
          },
          "metadata": {}
        }
      ],
      "source": [
        "sweep_configuration = {\n",
        "    'method': 'random',\n",
        "    'name': 'demo-project',\n",
        "    'metric': {\n",
        "        'goal': 'minimize', \n",
        "        'name': 'validation_loss'\n",
        "        },\n",
        "    'parameters': {\n",
        "        'batch_size': {'values': [16, 32, 64]},\n",
        "        'epochs': {'values': [5, 10]},\n",
        "        'num_hidden_layer':{'values' : [3, 4, 5]},\n",
        "        'hidden_size': {'values' : [32, 64, 128]},\n",
        "        'weight_decay': {'values' : [0, 0.0005, 0.5]},\n",
        "        'lr': {'values' : [1e-3, 1e-4]},\n",
        "        'optimizer':{'values' : ['sgd', 'momentum', 'nesterov', 'rmsprop', 'adam', 'nadam']},\n",
        "        'weight_init':{'values' : ['random','xavier']},\n",
        "        'activation' : {'values' : ['sigmoid','tanh','relu']},\n",
        "     }\n",
        "}\n",
        "\n",
        "wandb.login(key = 'c425b887e2c725018a7f3a772582610fa54ef52c')\n",
        "\n",
        "\n",
        "sweep_id = wandb.sweep(sweep=sweep_configuration, project='demo-project')\n",
        "wandb.agent(sweep_id, function=train, count=10)\n",
        "wandb.finish()"
      ]
    },
    {
      "cell_type": "code",
      "execution_count": null,
      "metadata": {
        "colab": {
          "base_uri": "https://localhost:8080/"
        },
        "id": "GMaTOGnTMt7U",
        "outputId": "5f6fbf47-d179-4d2e-9f69-4c38fd8f0d61"
      },
      "outputs": [
        {
          "name": "stdout",
          "output_type": "stream",
          "text": [
            "epoch: 0 => loss = 2.913641820829864\n"
          ]
        }
      ],
      "source": [
        "num_train_samples = 60000\n",
        "num_validate_samples = num_train_samples//10\n",
        "num_train_samples -= num_validate_samples\n",
        "\n",
        "X_valid = X_train[:num_validate_samples,:].reshape(num_validate_samples,num_size).T /255.0\n",
        "Y_valid = Y_train[:num_validate_samples]\n",
        "\n",
        "X = X_train[num_validate_samples:,:].reshape(num_train_samples,num_size).T / 255.0\n",
        "Y = Y_train[num_validate_samples:]\n",
        "\n",
        "activation = 'relu'\n",
        "batch_size=32\n",
        "epochs=1\n",
        "hidden_size= 32\n",
        "lr= 0.0001\n",
        "num_hidden_layer= 3\n",
        "optimizer='momentum'\n",
        "weight_decay=0\n",
        "weight_init='random'\n",
        "\n",
        "# nn = NN(hidden_layer_size=np.array([64,64,64,64]),num_hidden_layer=4)\n",
        "# num_train_samples = 60000\n",
        "# X = X_train[:num_train_samples,:].reshape(num_train_samples,num_size).T /255\n",
        "# Y = Y_train[:num_train_samples]\n",
        "# print(X.shape)\n",
        "# nn.training(X,Y,batch_size=64,lr=0.0001,epochs=5,optimizer_name=\"nesterov\");\n",
        "\n",
        "\n",
        "nn = NN(num_samples = num_train_samples, num_hidden_layer = num_hidden_layer, hidden_layer_size = np.full(num_hidden_layer,hidden_size), hidden_layer_activation = activation, weight_name = weight_init)\n",
        "nn.training(X, Y, epochs = epochs, weight_decay = weight_decay, optimizer_name = optimizer,lr = lr, batch_size = batch_size)\n",
        "# print(np.full(num_hidden_layer,hidden_size))\n",
        "# a = nn.feedforward(X)\n",
        "# print(a,Y)\n",
        "\n",
        "# print(a,Y)\n"
      ]
    },
    {
      "cell_type": "code",
      "execution_count": null,
      "metadata": {
        "colab": {
          "base_uri": "https://localhost:8080/"
        },
        "id": "K6ms79OkY7RW",
        "outputId": "6e3636ba-6359-4a06-d10a-0187ad7ec913"
      },
      "outputs": [
        {
          "data": {
            "text/plain": [
              "array([6, 6, 6])"
            ]
          },
          "execution_count": 61,
          "metadata": {},
          "output_type": "execute_result"
        }
      ],
      "source": [
        "np.full(3,6)"
      ]
    },
    {
      "cell_type": "code",
      "execution_count": null,
      "metadata": {
        "id": "x1pTvC7IICYC"
      },
      "outputs": [],
      "source": []
    },
    {
      "cell_type": "code",
      "execution_count": null,
      "metadata": {
        "id": "Qdcrm34_VT71"
      },
      "outputs": [],
      "source": []
    },
    {
      "cell_type": "code",
      "execution_count": null,
      "metadata": {
        "colab": {
          "base_uri": "https://localhost:8080/"
        },
        "id": "sozgvNqQVUEm",
        "outputId": "0def0f89-ab2b-4513-8cf4-199c0e720a1c"
      },
      "outputs": [
        {
          "data": {
            "text/plain": [
              "array([[1., 1., 1., 1., 1., 1., 1., 1., 1., 1., 1., 1., 1., 1., 1., 1.,\n",
              "        1., 1., 1., 1.],\n",
              "       [1., 1., 1., 1., 1., 1., 1., 1., 1., 1., 1., 1., 1., 1., 1., 1.,\n",
              "        1., 1., 1., 1.],\n",
              "       [1., 1., 1., 1., 1., 1., 1., 1., 1., 1., 1., 1., 1., 1., 1., 1.,\n",
              "        1., 1., 1., 1.],\n",
              "       [1., 1., 1., 1., 1., 1., 1., 1., 1., 1., 1., 1., 1., 1., 1., 1.,\n",
              "        1., 1., 1., 1.],\n",
              "       [1., 1., 1., 1., 1., 1., 1., 1., 1., 1., 1., 1., 1., 1., 1., 1.,\n",
              "        1., 1., 1., 1.],\n",
              "       [1., 1., 1., 1., 1., 1., 1., 1., 1., 1., 1., 1., 1., 1., 1., 1.,\n",
              "        1., 1., 1., 1.],\n",
              "       [1., 1., 1., 1., 1., 1., 1., 1., 1., 1., 1., 1., 1., 1., 1., 1.,\n",
              "        1., 1., 1., 1.],\n",
              "       [1., 1., 1., 1., 1., 1., 1., 1., 1., 1., 1., 1., 1., 1., 1., 1.,\n",
              "        1., 1., 1., 1.],\n",
              "       [1., 1., 1., 1., 1., 1., 1., 1., 1., 1., 1., 1., 1., 1., 1., 1.,\n",
              "        1., 1., 1., 1.],\n",
              "       [1., 1., 1., 1., 1., 1., 1., 1., 1., 1., 1., 1., 1., 1., 1., 1.,\n",
              "        1., 1., 1., 1.]])"
            ]
          },
          "execution_count": 14,
          "metadata": {},
          "output_type": "execute_result"
        }
      ],
      "source": [
        "a = np.ones((10,20))\n",
        "a"
      ]
    },
    {
      "cell_type": "code",
      "execution_count": null,
      "metadata": {
        "colab": {
          "base_uri": "https://localhost:8080/",
          "height": 234
        },
        "id": "0xuzZxCAVYc_",
        "outputId": "fdb7a7cf-b712-4bed-be11-aed9235d30ad"
      },
      "outputs": [
        {
          "ename": "ValueError",
          "evalue": "ignored",
          "output_type": "error",
          "traceback": [
            "\u001b[0;31m---------------------------------------------------------------------------\u001b[0m",
            "\u001b[0;31mValueError\u001b[0m                                Traceback (most recent call last)",
            "\u001b[0;32m<ipython-input-26-01c8b73a5e06>\u001b[0m in \u001b[0;36m<module>\u001b[0;34m\u001b[0m\n\u001b[1;32m      3\u001b[0m \u001b[0ma\u001b[0m\u001b[0;34m[\u001b[0m\u001b[0;36m3\u001b[0m\u001b[0;34m]\u001b[0m\u001b[0;34m[\u001b[0m\u001b[0;36m0\u001b[0m\u001b[0;34m]\u001b[0m \u001b[0;34m=\u001b[0m \u001b[0;36m4\u001b[0m\u001b[0;34m\u001b[0m\u001b[0;34m\u001b[0m\u001b[0m\n\u001b[1;32m      4\u001b[0m \u001b[0mb\u001b[0m \u001b[0;34m=\u001b[0m \u001b[0ma\u001b[0m\u001b[0;34m.\u001b[0m\u001b[0mcopy\u001b[0m\u001b[0;34m(\u001b[0m\u001b[0;34m)\u001b[0m\u001b[0;34m\u001b[0m\u001b[0;34m\u001b[0m\u001b[0m\n\u001b[0;32m----> 5\u001b[0;31m \u001b[0mb\u001b[0m \u001b[0;34m=\u001b[0m \u001b[0;36m1\u001b[0m \u001b[0;32mif\u001b[0m \u001b[0ma\u001b[0m \u001b[0;34m>\u001b[0m \u001b[0;36m1\u001b[0m \u001b[0;32melse\u001b[0m \u001b[0;36m0\u001b[0m\u001b[0;34m\u001b[0m\u001b[0;34m\u001b[0m\u001b[0m\n\u001b[0m\u001b[1;32m      6\u001b[0m \u001b[0;31m# b[a < 3] = 0\u001b[0m\u001b[0;34m\u001b[0m\u001b[0;34m\u001b[0m\u001b[0m\n\u001b[1;32m      7\u001b[0m \u001b[0;31m# b[a > 3] = 1\u001b[0m\u001b[0;34m\u001b[0m\u001b[0;34m\u001b[0m\u001b[0m\n",
            "\u001b[0;31mValueError\u001b[0m: The truth value of an array with more than one element is ambiguous. Use a.any() or a.all()"
          ]
        }
      ],
      "source": [
        "a[0][0]=10\n",
        "a[0][4]=8\n",
        "a[3][0] = 4\n",
        "b"
      ]
    },
    {
      "cell_type": "code",
      "execution_count": null,
      "metadata": {
        "colab": {
          "base_uri": "https://localhost:8080/",
          "height": 35
        },
        "id": "A6UHtLYtVdUq",
        "outputId": "8646eb63-d235-4b82-a796-81a5dd5c2dbb"
      },
      "outputs": [
        {
          "data": {
            "application/vnd.google.colaboratory.intrinsic+json": {
              "type": "string"
            },
            "text/plain": [
              "'24'"
            ]
          },
          "execution_count": 170,
          "metadata": {},
          "output_type": "execute_result"
        }
      ],
      "source": [
        "a=2\n",
        "b=f'{a}{num_hidden_layer}'\n",
        "b"
      ]
    },
    {
      "cell_type": "code",
      "execution_count": null,
      "metadata": {
        "id": "SeEfOErKKGcK"
      },
      "outputs": [],
      "source": []
    }
  ],
  "metadata": {
    "colab": {
      "provenance": [],
      "authorship_tag": "ABX9TyMeIWbxxEguE88zB8a23iA2",
      "include_colab_link": true
    },
    "kernelspec": {
      "display_name": "Python 3",
      "name": "python3"
    },
    "language_info": {
      "name": "python"
    },
    "widgets": {
      "application/vnd.jupyter.widget-state+json": {
        "aead357d83c344cab11c49df31d21d66": {
          "model_module": "@jupyter-widgets/controls",
          "model_name": "VBoxModel",
          "model_module_version": "1.5.0",
          "state": {
            "_dom_classes": [],
            "_model_module": "@jupyter-widgets/controls",
            "_model_module_version": "1.5.0",
            "_model_name": "VBoxModel",
            "_view_count": null,
            "_view_module": "@jupyter-widgets/controls",
            "_view_module_version": "1.5.0",
            "_view_name": "VBoxView",
            "box_style": "",
            "children": [
              "IPY_MODEL_5419ea27de144f858ed70e1368466264",
              "IPY_MODEL_1552dfdf57cf46f99fd39f346d81c3cf"
            ],
            "layout": "IPY_MODEL_5dab221c3f98475395bfead112e729df"
          }
        },
        "5419ea27de144f858ed70e1368466264": {
          "model_module": "@jupyter-widgets/controls",
          "model_name": "LabelModel",
          "model_module_version": "1.5.0",
          "state": {
            "_dom_classes": [],
            "_model_module": "@jupyter-widgets/controls",
            "_model_module_version": "1.5.0",
            "_model_name": "LabelModel",
            "_view_count": null,
            "_view_module": "@jupyter-widgets/controls",
            "_view_module_version": "1.5.0",
            "_view_name": "LabelView",
            "description": "",
            "description_tooltip": null,
            "layout": "IPY_MODEL_0623bf508f6d4f8894c5545190ffa586",
            "placeholder": "​",
            "style": "IPY_MODEL_f32036c2daad4945ab3762796be9b87b",
            "value": "0.001 MB of 0.001 MB uploaded (0.000 MB deduped)\r"
          }
        },
        "1552dfdf57cf46f99fd39f346d81c3cf": {
          "model_module": "@jupyter-widgets/controls",
          "model_name": "FloatProgressModel",
          "model_module_version": "1.5.0",
          "state": {
            "_dom_classes": [],
            "_model_module": "@jupyter-widgets/controls",
            "_model_module_version": "1.5.0",
            "_model_name": "FloatProgressModel",
            "_view_count": null,
            "_view_module": "@jupyter-widgets/controls",
            "_view_module_version": "1.5.0",
            "_view_name": "ProgressView",
            "bar_style": "",
            "description": "",
            "description_tooltip": null,
            "layout": "IPY_MODEL_e160b272566b4fd99b25784be6ae2579",
            "max": 1,
            "min": 0,
            "orientation": "horizontal",
            "style": "IPY_MODEL_26f25c1144284f1186d3efa316e2d9fe",
            "value": 1
          }
        },
        "5dab221c3f98475395bfead112e729df": {
          "model_module": "@jupyter-widgets/base",
          "model_name": "LayoutModel",
          "model_module_version": "1.2.0",
          "state": {
            "_model_module": "@jupyter-widgets/base",
            "_model_module_version": "1.2.0",
            "_model_name": "LayoutModel",
            "_view_count": null,
            "_view_module": "@jupyter-widgets/base",
            "_view_module_version": "1.2.0",
            "_view_name": "LayoutView",
            "align_content": null,
            "align_items": null,
            "align_self": null,
            "border": null,
            "bottom": null,
            "display": null,
            "flex": null,
            "flex_flow": null,
            "grid_area": null,
            "grid_auto_columns": null,
            "grid_auto_flow": null,
            "grid_auto_rows": null,
            "grid_column": null,
            "grid_gap": null,
            "grid_row": null,
            "grid_template_areas": null,
            "grid_template_columns": null,
            "grid_template_rows": null,
            "height": null,
            "justify_content": null,
            "justify_items": null,
            "left": null,
            "margin": null,
            "max_height": null,
            "max_width": null,
            "min_height": null,
            "min_width": null,
            "object_fit": null,
            "object_position": null,
            "order": null,
            "overflow": null,
            "overflow_x": null,
            "overflow_y": null,
            "padding": null,
            "right": null,
            "top": null,
            "visibility": null,
            "width": null
          }
        },
        "0623bf508f6d4f8894c5545190ffa586": {
          "model_module": "@jupyter-widgets/base",
          "model_name": "LayoutModel",
          "model_module_version": "1.2.0",
          "state": {
            "_model_module": "@jupyter-widgets/base",
            "_model_module_version": "1.2.0",
            "_model_name": "LayoutModel",
            "_view_count": null,
            "_view_module": "@jupyter-widgets/base",
            "_view_module_version": "1.2.0",
            "_view_name": "LayoutView",
            "align_content": null,
            "align_items": null,
            "align_self": null,
            "border": null,
            "bottom": null,
            "display": null,
            "flex": null,
            "flex_flow": null,
            "grid_area": null,
            "grid_auto_columns": null,
            "grid_auto_flow": null,
            "grid_auto_rows": null,
            "grid_column": null,
            "grid_gap": null,
            "grid_row": null,
            "grid_template_areas": null,
            "grid_template_columns": null,
            "grid_template_rows": null,
            "height": null,
            "justify_content": null,
            "justify_items": null,
            "left": null,
            "margin": null,
            "max_height": null,
            "max_width": null,
            "min_height": null,
            "min_width": null,
            "object_fit": null,
            "object_position": null,
            "order": null,
            "overflow": null,
            "overflow_x": null,
            "overflow_y": null,
            "padding": null,
            "right": null,
            "top": null,
            "visibility": null,
            "width": null
          }
        },
        "f32036c2daad4945ab3762796be9b87b": {
          "model_module": "@jupyter-widgets/controls",
          "model_name": "DescriptionStyleModel",
          "model_module_version": "1.5.0",
          "state": {
            "_model_module": "@jupyter-widgets/controls",
            "_model_module_version": "1.5.0",
            "_model_name": "DescriptionStyleModel",
            "_view_count": null,
            "_view_module": "@jupyter-widgets/base",
            "_view_module_version": "1.2.0",
            "_view_name": "StyleView",
            "description_width": ""
          }
        },
        "e160b272566b4fd99b25784be6ae2579": {
          "model_module": "@jupyter-widgets/base",
          "model_name": "LayoutModel",
          "model_module_version": "1.2.0",
          "state": {
            "_model_module": "@jupyter-widgets/base",
            "_model_module_version": "1.2.0",
            "_model_name": "LayoutModel",
            "_view_count": null,
            "_view_module": "@jupyter-widgets/base",
            "_view_module_version": "1.2.0",
            "_view_name": "LayoutView",
            "align_content": null,
            "align_items": null,
            "align_self": null,
            "border": null,
            "bottom": null,
            "display": null,
            "flex": null,
            "flex_flow": null,
            "grid_area": null,
            "grid_auto_columns": null,
            "grid_auto_flow": null,
            "grid_auto_rows": null,
            "grid_column": null,
            "grid_gap": null,
            "grid_row": null,
            "grid_template_areas": null,
            "grid_template_columns": null,
            "grid_template_rows": null,
            "height": null,
            "justify_content": null,
            "justify_items": null,
            "left": null,
            "margin": null,
            "max_height": null,
            "max_width": null,
            "min_height": null,
            "min_width": null,
            "object_fit": null,
            "object_position": null,
            "order": null,
            "overflow": null,
            "overflow_x": null,
            "overflow_y": null,
            "padding": null,
            "right": null,
            "top": null,
            "visibility": null,
            "width": null
          }
        },
        "26f25c1144284f1186d3efa316e2d9fe": {
          "model_module": "@jupyter-widgets/controls",
          "model_name": "ProgressStyleModel",
          "model_module_version": "1.5.0",
          "state": {
            "_model_module": "@jupyter-widgets/controls",
            "_model_module_version": "1.5.0",
            "_model_name": "ProgressStyleModel",
            "_view_count": null,
            "_view_module": "@jupyter-widgets/base",
            "_view_module_version": "1.2.0",
            "_view_name": "StyleView",
            "bar_color": null,
            "description_width": ""
          }
        }
      }
    }
  },
  "nbformat": 4,
  "nbformat_minor": 0
}