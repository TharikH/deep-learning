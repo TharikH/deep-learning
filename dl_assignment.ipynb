{
  "nbformat": 4,
  "nbformat_minor": 0,
  "metadata": {
    "colab": {
      "provenance": [],
      "authorship_tag": "ABX9TyNyu+UyMxvjbJZSz9utKIjY",
      "include_colab_link": true
    },
    "kernelspec": {
      "name": "python3",
      "display_name": "Python 3"
    },
    "language_info": {
      "name": "python"
    }
  },
  "cells": [
    {
      "cell_type": "markdown",
      "metadata": {
        "id": "view-in-github",
        "colab_type": "text"
      },
      "source": [
        "<a href=\"https://colab.research.google.com/github/TharikH/deep-learning/blob/main/dl_assignment.ipynb\" target=\"_parent\"><img src=\"https://colab.research.google.com/assets/colab-badge.svg\" alt=\"Open In Colab\"/></a>"
      ]
    },
    {
      "cell_type": "code",
      "execution_count": 22,
      "metadata": {
        "id": "WxC5XjBomovq"
      },
      "outputs": [],
      "source": [
        "import numpy as np\n",
        "import matplotlib.pyplot as plt\n",
        "from keras.datasets import fashion_mnist\n",
        "import copy"
      ]
    },
    {
      "cell_type": "code",
      "source": [
        "(X_train, Y_train), (X_test, Y_test) = fashion_mnist.load_data()"
      ],
      "metadata": {
        "id": "uib1izEEoToJ"
      },
      "execution_count": 23,
      "outputs": []
    },
    {
      "cell_type": "code",
      "source": [
        "num_train_samples = X_train.shape[0]\n",
        "num_size = X_train.shape[1] * X_train.shape[2]\n",
        "num_test_samples = X_test.shape[0]"
      ],
      "metadata": {
        "id": "fEFcyAeBo_D6"
      },
      "execution_count": 24,
      "outputs": []
    },
    {
      "cell_type": "code",
      "source": [
        "num_size"
      ],
      "metadata": {
        "colab": {
          "base_uri": "https://localhost:8080/"
        },
        "id": "tRTo19OU1L3p",
        "outputId": "e7b8eb32-85e6-4c63-d4fd-2112e3ad2066"
      },
      "execution_count": 25,
      "outputs": [
        {
          "output_type": "execute_result",
          "data": {
            "text/plain": [
              "784"
            ]
          },
          "metadata": {},
          "execution_count": 25
        }
      ]
    },
    {
      "cell_type": "markdown",
      "source": [
        "plot 1 sample image for each class"
      ],
      "metadata": {
        "id": "SdNI9lnQ2oIM"
      }
    },
    {
      "cell_type": "code",
      "source": [
        "d=set()\n",
        "plt.figure(figsize=(10,10))\n",
        "class_names = ['T-shirt/top', 'Trouser', 'Pullover', 'Dress', 'Coat',\n",
        "               'Sandal', 'Shirt', 'Sneaker', 'Bag', 'Ankle boot']\n",
        "    \n",
        "k=0\n",
        "for i in range(num_train_samples):\n",
        "  if Y_train[i] not in d:\n",
        "    d.add(Y_train[i])\n",
        "    plt.subplot(5,5,k+1)\n",
        "    plt.xticks([])\n",
        "    plt.yticks([])\n",
        "    plt.grid(False)\n",
        "    plt.imshow(X_train[i], cmap=plt.cm.binary)\n",
        "    plt.xlabel(class_names[Y_train[i]])\n",
        "    k+=1\n",
        "    if k == 10:\n",
        "      break\n",
        "\n",
        "plt.show()\n"
      ],
      "metadata": {
        "colab": {
          "base_uri": "https://localhost:8080/",
          "height": 255
        },
        "id": "AZtSRC16y5b5",
        "outputId": "ab460472-1363-408e-9860-9cb8ad33805d"
      },
      "execution_count": 26,
      "outputs": [
        {
          "output_type": "display_data",
          "data": {
            "text/plain": [
              "<Figure size 720x720 with 10 Axes>"
            ],
            "image/png": "[encoded data removed]"
          },
          "metadata": {}
        }
      ]
    },
    {
      "cell_type": "code",
      "source": [
        "#parameters \n",
        "\n"
      ],
      "metadata": {
        "id": "OaupL4eL2QoO"
      },
      "execution_count": 27,
      "outputs": []
    },
    {
      "cell_type": "code",
      "source": [
        "#class having all required activations\n",
        "\n",
        "class Activations():\n",
        "  def __init__(self):\n",
        "    self.activation_dict={\n",
        "        \"sigmoid\":self.sigmoid,\n",
        "        \"softmax\":self.softmax,\n",
        "        \"tanh\":self.tanh\n",
        "    }\n",
        "    self.derivative_dict={\n",
        "        \"sigmoid\":self.sigmoidDerivative,\n",
        "        \"softmax\":self.softmaxDerivative,\n",
        "        \"tanh\":self.tanhDerivative\n",
        "    }\n",
        "\n",
        "  def activate(self, activation_function = \"sigmoid\"):\n",
        "    return self.activation_dict[activation_function]\n",
        "\n",
        "  def derivate(self,activation_function = \"sigmoid\"):\n",
        "    return self.derivative_dict[activation_function]\n",
        "\n",
        "  def sigmoid(self, x):\n",
        "    z = x.copy()\n",
        "    z[x < 0] = np.exp(x[x < 0])/(1 + np.exp(x[x<0]))\n",
        "    z[x >= 0] = 1/(1+np.exp(-x[x >= 0]))\n",
        "    return z\n",
        "\n",
        "  def softmax(self, x):\n",
        "    max_element = np.max(x,axis=0)\n",
        "    z = np.exp(x - max_element)\n",
        "    total = sum(z)\n",
        "    z = z/total\n",
        "    return z\n",
        "  \n",
        "  def tanh(self, x):\n",
        "    return np.tanh(x)\n",
        "\n",
        "  def tanhDerivative(self, x):\n",
        "    z = self.tanh(x)\n",
        "    return 1 - z**2\n",
        "\n",
        "  def softmaxDerivative(self,x):\n",
        "    pass\n",
        "  \n",
        "  def sigmoidDerivative(self,x):\n",
        "    z = self.sigmoid(x)\n",
        "    return  z*(1 - z)"
      ],
      "metadata": {
        "id": "TfjhpkZr-T5I"
      },
      "execution_count": 28,
      "outputs": []
    },
    {
      "cell_type": "code",
      "source": [
        "# class having all losses and its derivatives\n",
        "class Loss():\n",
        "  def __init__(self):\n",
        "    pass\n",
        "  def crossEntropy(self ,Y_hat, Y):\n",
        "    loss=0\n",
        "    num_samples = Y_hat.shape[1]\n",
        "    for i in range(num_samples):\n",
        "      loss+=np.log(Y_hat[:,i][Y[i]])\n",
        "\n",
        "    return -loss/num_samples\n",
        "\n",
        "  def findOneHotVector(self,Y_hat, Y):\n",
        "    vector = np.zeros(Y_hat.shape)\n",
        "    for i in range(Y_hat.shape[1]):\n",
        "      vector[:,i][Y[i]] = 1\n",
        "    \n",
        "    return vector\n",
        "\n",
        "\n",
        "\n",
        "  def crossEntropyDerivative(self,Y_hat, Y):\n",
        "    derivative = np.zeros(Y_hat.shape)\n",
        "    for i in range(Y_hat.shape[1]):\n",
        "      derivative[:,i][Y[i]] = 1/(Y_hat[:,i][Y[i]])\n",
        "    return derivative\n",
        "    "
      ],
      "metadata": {
        "id": "znaRtyTqZ-dT"
      },
      "execution_count": 29,
      "outputs": []
    },
    {
      "cell_type": "code",
      "source": [
        "# class having all the weight initializations\n",
        "class WeightInit():\n",
        "  def __init__(self,weight_name):\n",
        "    self.weight_name = weight_name\n",
        "    self.weight_dict={\n",
        "        \"zero\":self.zeroInit,\n",
        "        \"random\":self.randomInit,\n",
        "        \"xavier\":self.xavierInit\n",
        "    }\n",
        "\n",
        "  def initializeWeight(self):\n",
        "    return self.weight_dict[self.weight_name]\n",
        "    \n",
        "  \n",
        "  def zeroInit(self, shape, flag=0):\n",
        "    x = np.zeros(shape)\n",
        "    return x\n",
        "\n",
        "  def randomInit(self, shape, flag=0):\n",
        "    x = np.random.normal(loc=0,scale=1,size=shape)\n",
        "    return x\n",
        "\n",
        "  \n",
        "  def xavierInit(self, shape, flag=0):\n",
        "    x = np.random.randn(*shape) * np.sqrt(2/shape[0]) if flag == 0 else self.zeroInit(shape)\n",
        "    return x\n",
        "\n",
        "  \n"
      ],
      "metadata": {
        "id": "tVu-t4PF6tiJ"
      },
      "execution_count": 30,
      "outputs": []
    },
    {
      "cell_type": "code",
      "source": [
        "# Base class for all neural networks\n",
        "\n",
        "class NeuralNetwork():\n",
        "  def __init__(self):\n",
        "    pass\n",
        "  def getParameters(self):\n",
        "    pass\n",
        "  def feedforward():\n",
        "    pass\n",
        "  def backpropogation():\n",
        "    pass\n",
        "  def test(self):\n",
        "    pass\n",
        "  def train(self):\n",
        "    pass\n"
      ],
      "metadata": {
        "id": "5lWfym6w4BKL"
      },
      "execution_count": 31,
      "outputs": []
    },
    {
      "cell_type": "code",
      "source": [
        "# classes having all the optimizers\n",
        "class Optimizer():\n",
        "  def __init__(self,optimizer_name=\"gd\"):\n",
        "    self.optimizer_name = optimizer_name\n",
        "    self.history = 0\n",
        "    self.optimizer_dict={\n",
        "        \"gd\":self.gradient_descent,\n",
        "        \"sgd\":self.gradient_descent,\n",
        "        \"momentum\":self.momentum,\n",
        "        \"nestrov\":self.nesterov,\n",
        "        \"rmsprop\":self.rmsprop,\n",
        "        \"adam\" : self.adam,\n",
        "        \"nadam\" : self.nadam\n",
        "    }\n",
        "\n",
        "  def optimize(self):\n",
        "    return self.optimizer_dict[self.optimizer_name]\n",
        "    \n",
        "  \n",
        "  def gradient_descent(self, nn, X, Y, loss, lr, epochs, batch_size, max_iteration,indexes_for_batch,parameter = 0):\n",
        "\n",
        "    num_data = X.shape[1]\n",
        "\n",
        "    for epoch in range(epochs):\n",
        "      for batch in range(0,num_data,batch_size):\n",
        "        X_batch = X[:,indexes_for_batch[batch:batch + batch_size]]\n",
        "        Y_batch = Y[indexes_for_batch[batch:batch + batch_size]]\n",
        "        for i in range(max_iteration):\n",
        "          # self.W,self.b = self.initializeWeights()\n",
        "          a_values,h_values = nn.forwardpropogation(X_batch)\n",
        "          delta_W, delta_b = nn.backpropogation(X_batch,Y_batch,a_values, h_values, loss)\n",
        "          # print(np.sum(delta_W[0], axis = 0))\n",
        "          for j in range(nn.num_hidden_layer + 1):\n",
        "            nn.W[j] = nn.W[j] - lr * delta_W[nn.num_hidden_layer - j]\n",
        "            nn.b[j] = nn.b[j] - lr * delta_b[nn.num_hidden_layer - j]\n",
        "\n",
        "      Y_hat = nn.feedforward(X)\n",
        "      loss_value = loss.crossEntropy(Y_hat,Y)\n",
        "      print(f\"epoch: {epoch} => loss = {loss_value}\")\n",
        "  [0]\n",
        "\n",
        "  def momentum(self, nn, X, Y, loss, lr, epochs, batch_size, max_iteration,indexes_for_batch,parameter = 0.9):\n",
        "    num_data = X.shape[1]\n",
        "    ut_w,ut_b = nn.initializeWeights(\"zero\")\n",
        "    beta = parameter\n",
        "\n",
        "    for epoch in range(epochs):\n",
        "      for batch in range(0,num_data,batch_size):\n",
        "        X_batch = X[:,batch:batch + batch_size]\n",
        "        Y_batch = Y[batch:batch+batch_size]\n",
        "        for i in range(max_iteration):\n",
        "          # self.W,self.b = self.initializeWeights()\n",
        "          a_values,h_values = nn.forwardpropogation(X_batch)\n",
        "          delta_W, delta_b = nn.backpropogation(X_batch,Y_batch,a_values, h_values, loss)\n",
        "          # print(np.sum(delta_W[0], axis = 0))\n",
        "          for j in range(nn.num_hidden_layer + 1):\n",
        "            ut_w[j] = beta*ut_w[j] + delta_W[nn.num_hidden_layer - j]\n",
        "            ut_b[j] = beta*ut_b[j] + delta_b[nn.num_hidden_layer - j] \n",
        "\n",
        "            nn.W[j] = nn.W[j] - lr * ut_w[j]\n",
        "            nn.b[j] = nn.b[j] - lr * ut_b[j]\n",
        "\n",
        "      Y_hat = nn.feedforward(X)\n",
        "      loss_value = loss.crossEntropy(Y_hat,Y)\n",
        "      print(f\"epoch: {epoch} => loss = {loss_value}\")\n",
        "\n",
        "\n",
        "  def nesterov(self, nn, X, Y, loss, lr, epochs, batch_size, max_iteration,indexes_for_batch,parameter = 0.9):\n",
        "    num_data = X.shape[1]\n",
        "    ut_w,ut_b = nn.initializeWeights(\"zero\")\n",
        "    beta = parameter\n",
        "\n",
        "\n",
        "    for epoch in range(epochs):\n",
        "      for batch in range(0,num_data,batch_size):\n",
        "        X_batch = X[:,batch:batch + batch_size]\n",
        "        Y_batch = Y[batch:batch+batch_size]\n",
        "        for i in range(max_iteration):\n",
        "          # self.W,self.b = self.initializeWeights()\n",
        "          a_values,h_values = nn.forwardpropogation(X_batch)\n",
        "\n",
        "          old_W = copy.deepcopy(nn.W)\n",
        "          old_b = copy.deepcopy(nn.b)\n",
        "          \n",
        "          for k in range(nn.num_hidden_layer + 1):\n",
        "            nn.W[k] = nn.W[k] - beta *  ut_w[k]\n",
        "            nn.b[k] = nn.b[k] - beta *  ut_b[k]\n",
        "\n",
        "          \n",
        "          delta_W, delta_b = nn.backpropogation(X_batch,Y_batch,a_values, h_values, loss)\n",
        "          # print(np.sum(delta_W[0], axis = 0))\n",
        "          for j in range(nn.num_hidden_layer + 1):\n",
        "            ut_w[j] = beta*ut_w[j] + delta_W[nn.num_hidden_layer - j]\n",
        "            ut_b[j] = beta*ut_b[j] + delta_b[nn.num_hidden_layer - j] \n",
        "\n",
        "            nn.W[j] = old_W[j] - lr * ut_w[j]\n",
        "            nn.b[j] = old_b[j] - lr * ut_b[j]\n",
        "\n",
        "      Y_hat = nn.feedforward(X)\n",
        "      loss_value = loss.crossEntropy(Y_hat,Y)\n",
        "      print(f\"epoch: {epoch} => loss = {loss_value}\")\n",
        "    \n",
        "\n",
        "\n",
        "  def rmsprop(self, nn, X, Y, loss, lr, epochs, batch_size, max_iteration,indexes_for_batch,parameter = 0.9,epsilon = 0.1):\n",
        "    num_data = X.shape[1]\n",
        "    vt_w,vt_b = nn.initializeWeights(\"zero\")\n",
        "    beta = parameter\n",
        "\n",
        "    for epoch in range(epochs):\n",
        "      for batch in range(0,num_data,batch_size):\n",
        "        X_batch = X[:,batch:batch + batch_size]\n",
        "        Y_batch = Y[batch:batch+batch_size]\n",
        "        for i in range(max_iteration):\n",
        "          # self.W,self.b = self.initializeWeights()\n",
        "          a_values,h_values = nn.forwardpropogation(X_batch)\n",
        "          delta_W, delta_b = nn.backpropogation(X_batch,Y_batch,a_values, h_values, loss)\n",
        "          # print(np.sum(delta_W[0], axis = 0))\n",
        "          for j in range(nn.num_hidden_layer + 1):\n",
        "            vt_w[j] = beta*vt_w[j] + (1 - beta) * np.multiply(delta_W[nn.num_hidden_layer - j],delta_W[nn.num_hidden_layer - j]) \n",
        "            vt_b[j] = beta*vt_b[j] + (1 - beta) * np.multiply(delta_b[nn.num_hidden_layer - j],delta_b[nn.num_hidden_layer - j])\n",
        "\n",
        "            nn.W[j] = nn.W[j] - np.divide(lr * delta_W[nn.num_hidden_layer - j],np.sqrt(vt_w[j] + epsilon))\n",
        "            nn.b[j] = nn.b[j] - np.divide(lr * delta_b[nn.num_hidden_layer - j],np.sqrt(vt_b[j] + epsilon))\n",
        "\n",
        "      Y_hat = nn.feedforward(X)\n",
        "      loss_value = loss.crossEntropy(Y_hat,Y)\n",
        "      print(f\"epoch: {epoch} => loss = {loss_value}\")\n",
        "    \n",
        "  def adam(self, nn, X, Y, loss, lr, epochs, batch_size, max_iteration,indexes_for_batch,parameter = 0.9,epsilon = 0.1, parameter2 = 0.999):\n",
        "    num_data = X.shape[1]\n",
        "    vt_w,vt_b = nn.initializeWeights(\"zero\")\n",
        "    mt_w,mt_b = nn.initializeWeights(\"zero\")\n",
        "    beta1 = parameter\n",
        "    beta2 = parameter2\n",
        "    t=0\n",
        "\n",
        "    for epoch in range(epochs):\n",
        "      for batch in range(0,num_data,batch_size):\n",
        "        t+=1\n",
        "        X_batch = X[:,batch:batch + batch_size]\n",
        "        Y_batch = Y[batch:batch+batch_size]\n",
        "        for i in range(max_iteration):\n",
        "          # self.W,self.b = self.initializeWeights()\n",
        "          a_values,h_values = nn.forwardpropogation(X_batch)\n",
        "          delta_W, delta_b = nn.backpropogation(X_batch,Y_batch,a_values, h_values, loss)\n",
        "          # print(np.sum(delta_W[0], axis = 0))\n",
        "          for j in range(nn.num_hidden_layer + 1):\n",
        "            mt_w[j] = beta1 * mt_w[j] + (1 - beta1) * delta_W[nn.num_hidden_layer - j]\n",
        "            mt_b[j] = beta1 * mt_b[j] + (1 - beta1) * delta_b[nn.num_hidden_layer - j]\n",
        "\n",
        "            mt_w_dash = mt_w[j] / (1 - beta1 ** t)\n",
        "            mt_b_dash = mt_b[j] / (1 - beta1 ** t)\n",
        "\n",
        "\n",
        "            vt_w[j] = beta2*vt_w[j] + (1 - beta2) * np.multiply(delta_W[nn.num_hidden_layer - j],delta_W[nn.num_hidden_layer - j]) \n",
        "            vt_b[j] = beta2*vt_b[j] + (1 - beta2) * np.multiply(delta_b[nn.num_hidden_layer - j],delta_b[nn.num_hidden_layer - j])\n",
        "\n",
        "            vt_w_dash = vt_w[j] / (1 - beta2 ** t)\n",
        "            vt_b_dash = vt_b[j] / (1 - beta2 ** t)           \n",
        "\n",
        "            nn.W[j] = nn.W[j] - np.divide(lr * mt_w_dash,np.sqrt(vt_w_dash + epsilon))\n",
        "            nn.b[j] = nn.b[j] - np.divide(lr * mt_b_dash,np.sqrt(vt_b_dash + epsilon))\n",
        "\n",
        "      Y_hat = nn.feedforward(X)\n",
        "      loss_value = loss.crossEntropy(Y_hat,Y)\n",
        "      print(f\"epoch: {epoch} => loss = {loss_value}\")\n",
        "    \n",
        "  def nadam(self, nn, X, Y, loss, lr, epochs, batch_size, max_iteration,indexes_for_batch,parameter = 0.9,epsilon = 0.1, parameter2 = 0.999):\n",
        "    num_data = X.shape[1]\n",
        "    vt_w,vt_b = nn.initializeWeights(\"zero\")\n",
        "    mt_w,mt_b = nn.initializeWeights(\"zero\")\n",
        "    beta1 = parameter\n",
        "    beta2 = parameter2\n",
        "    t=0\n",
        "\n",
        "    for epoch in range(epochs):\n",
        "      for batch in range(0,num_data,batch_size):\n",
        "        t+=1\n",
        "        X_batch = X[:,batch:batch + batch_size]\n",
        "        Y_batch = Y[batch:batch+batch_size]\n",
        "        for i in range(max_iteration):\n",
        "          # self.W,self.b = self.initializeWeights()\n",
        "          a_values,h_values = nn.forwardpropogation(X_batch)\n",
        "          delta_W, delta_b = nn.backpropogation(X_batch,Y_batch,a_values, h_values, loss)\n",
        "          # print(np.sum(delta_W[0], axis = 0))\n",
        "          for j in range(nn.num_hidden_layer + 1):\n",
        "            mt_w[j] = beta1 * mt_w[j] + (1 - beta1) * delta_W[nn.num_hidden_layer - j]\n",
        "            mt_b[j] = beta1 * mt_b[j] + (1 - beta1) * delta_b[nn.num_hidden_layer - j]\n",
        "\n",
        "            mt_w_dash = mt_w[j] / (1 - beta1 ** t)\n",
        "            mt_b_dash = mt_b[j] / (1 - beta1 ** t)\n",
        "\n",
        "\n",
        "            vt_w[j] = beta2*vt_w[j] + (1 - beta2) * np.multiply(delta_W[nn.num_hidden_layer - j],delta_W[nn.num_hidden_layer - j]) \n",
        "            vt_b[j] = beta2*vt_b[j] + (1 - beta2) * np.multiply(delta_b[nn.num_hidden_layer - j],delta_b[nn.num_hidden_layer - j])\n",
        "\n",
        "            vt_w_dash = vt_w[j] / (1 - beta2 ** t)\n",
        "            vt_b_dash = vt_b[j] / (1 - beta2 ** t)           \n",
        "\n",
        "            w_update_numerator = lr * (beta1 * mt_w_dash + ((1 - beta1)* delta_W[nn.num_hidden_layer - j]/(1 - beta1 ** t)))\n",
        "            b_update_numerator = lr * (beta1 * mt_b_dash + ((1 - beta1)* delta_b[nn.num_hidden_layer - j]/(1 - beta1 ** t)))\n",
        "\n",
        "            nn.W[j] = nn.W[j] - np.divide(w_update_numerator,np.sqrt(vt_w_dash + epsilon))\n",
        "            nn.b[j] = nn.b[j] - np.divide(b_update_numerator,np.sqrt(vt_b_dash + epsilon))\n",
        "\n",
        "      Y_hat = nn.feedforward(X)\n",
        "      loss_value = loss.crossEntropy(Y_hat,Y)\n",
        "      print(f\"epoch: {epoch} => loss = {loss_value}\")\n",
        "    "
      ],
      "metadata": {
        "id": "V2gS7xaQ50Hd"
      },
      "execution_count": 44,
      "outputs": []
    },
    {
      "cell_type": "code",
      "source": [
        "# Neural Network for this particular neural network\n",
        "\n",
        "class NN(NeuralNetwork):\n",
        "  def __init__(self, num_samples = 60000, input_size = 784, output_size = 10, num_hidden_layer = 3, hidden_layer_size=np.array([4, 4, 4]), data_name = \"Fashion_mnsit\", hidden_layer_activation=\"sigmoid\", output_layer_activation=\"softmax\", weight_name=\"xavier\"):\n",
        "    self.num_samples = num_samples\n",
        "    self.input_size = input_size\n",
        "    self.output_size = output_size\n",
        "    self.num_hidden_layer = num_hidden_layer\n",
        "    self.hidden_layer_size = hidden_layer_size\n",
        "    self.W, self.b = self.initializeWeights(weight_name)\n",
        "    self.hidden_layer_activation = hidden_layer_activation\n",
        "    self.output_layer_activation = output_layer_activation\n",
        "    self.activation_function = Activations()\n",
        "    self.activate_hidden = self.activation_function.activate(hidden_layer_activation)\n",
        "    self.activate_hidden_derivative = self.activation_function.derivate(hidden_layer_activation)\n",
        "    self.activate_output = self.activation_function.activate(output_layer_activation)\n",
        "    self.parameters = {\n",
        "        \"data_name\":data_name,\n",
        "        \"num_samples\":num_samples,\n",
        "        \"input_size\":input_size,\n",
        "        \"output_size\":output_size,\n",
        "        \"num_hidden_layer\":num_hidden_layer,\n",
        "        \"hidden_layer_size\":hidden_layer_size,\n",
        "        \"hidden_layer_activation\":hidden_layer_activation,\n",
        "        \"output_layer_activation\":output_layer_activation,\n",
        "        \"weight_init\":weight_name\n",
        "    }\n",
        "\n",
        "  def getParameters(self):\n",
        "    return self.parameters\n",
        "\n",
        "  def initializeWeights(self, weight_name):\n",
        "    W = []\n",
        "    b= []\n",
        "    input_size = self.input_size\n",
        "    weight_init = WeightInit(weight_name).initializeWeight()\n",
        "    for i in range(self.num_hidden_layer):\n",
        "      output_size = self.hidden_layer_size[i]\n",
        "      W.append(weight_init((input_size, output_size ),0))\n",
        "      b.append(weight_init((output_size, 1 ),1))\n",
        "      input_size = output_size\n",
        "    \n",
        "    output_size = self.output_size\n",
        "\n",
        "    W.append(weight_init((input_size, output_size),0))\n",
        "    b.append(weight_init((output_size, 1),1))\n",
        "\n",
        "    return W, b\n",
        "\n",
        "  def calculateAccuracy(self, X, Y):\n",
        "    Y_hat = self.feedforward(X)\n",
        "    size = Y_hat.shape[1]\n",
        "    score=0\n",
        "    for i in range(size):\n",
        "      if(np.argmax(Y_hat[:,i]) ==  Y[i]):\n",
        "          score+=1\n",
        "\n",
        "    return score/size * 100\n",
        "\n",
        "  def feedforward(self, X):\n",
        "    a = self.W[0].T @ X + self.b[0]\n",
        "    hidden_layer_input = self.activate_hidden(a)\n",
        "\n",
        "    for i in range(1,self.num_hidden_layer):\n",
        "      a=self.W[i].T @ hidden_layer_input + self.b[i]\n",
        "      hidden_layer_output=self.activate_hidden(a)\n",
        "      hidden_layer_input = hidden_layer_output\n",
        "\n",
        "    a=self.W[self.num_hidden_layer].T @ hidden_layer_input + self.b[self.num_hidden_layer]\n",
        "    output = self.activate_output(a)\n",
        "\n",
        "    return output\n",
        "\n",
        "\n",
        "  def forwardpropogation(self, X):\n",
        "    a_values=[]\n",
        "    h_values=[]\n",
        "\n",
        "    a = self.W[0].T @ X + self.b[0]\n",
        "    hidden_layer_input = self.activate_hidden(a)\n",
        "    \n",
        "    a_values.append(a)\n",
        "    h_values.append(hidden_layer_input)\n",
        "\n",
        "    for i in range(1,self.num_hidden_layer):\n",
        "      a=self.W[i].T @ hidden_layer_input + self.b[i]\n",
        "      hidden_layer_output=self.activate_hidden(a)\n",
        "      hidden_layer_input = hidden_layer_output\n",
        "      a_values.append(a)\n",
        "      h_values.append(hidden_layer_input)\n",
        "\n",
        "    a=self.W[self.num_hidden_layer].T @ hidden_layer_input + self.b[self.num_hidden_layer]\n",
        "    output = self.activate_output(a)\n",
        "    a_values.append(a)\n",
        "    h_values.append(output)\n",
        "\n",
        "    return a_values,h_values\n",
        "\n",
        "  def backpropogation(self, X, Y, a_values, h_values, loss):\n",
        "    size = len(h_values)\n",
        "    data_size = Y.shape[0]\n",
        "    delta_ak = -(loss.findOneHotVector(h_values[size - 1],Y) - h_values[size - 1])\n",
        "    delta_W=[]\n",
        "    delta_b=[]\n",
        "\n",
        "    for k in range(size - 1,0,-1):\n",
        "      delta_wk = h_values[k-1] @ delta_ak.T\n",
        "      delta_bk = np.sum(delta_ak,axis=1)\n",
        "      delta_W.append(delta_wk/data_size)\n",
        "      delta_b.append(delta_bk.reshape(delta_bk.shape[0],1)/data_size)\n",
        "\n",
        "      delta_hk = self.W[k] @ delta_ak\n",
        "      # print(delta_hk.shape)\n",
        "      # print(self.activation_function.sigmoidDerivative(a_values[k-1]).shape)\n",
        "      delta_ak = np.multiply(self.activate_hidden_derivative(a_values[k-1]),delta_hk)\n",
        "\n",
        "    delta_wk = X @ delta_ak.T\n",
        "    delta_bk = np.sum(delta_ak,axis=1)\n",
        "    delta_W.append(delta_wk/data_size)\n",
        "    delta_b.append(delta_bk.reshape(delta_bk.shape[0],1)/data_size)\n",
        "\n",
        "    return delta_W,delta_b\n",
        "  \n",
        "  def training(self, X, Y, epochs =10 , loss_name=\"cross-entropy\",optimizer_name=\"gd\", max_iteration = 1, lr=0.01, batch_size=32,parameter=0.9):\n",
        "    loss = Loss()\n",
        "    optimize = Optimizer(optimizer_name).optimize()\n",
        "    \n",
        "    num_data = X.shape[1]\n",
        "    np.random.seed(1)\n",
        "    indexes_for_batch = np.arange(num_data)\n",
        "    np.random.shuffle(indexes_for_batch)\n",
        "    optimize(self, X, Y, loss, lr, epochs, batch_size, max_iteration, indexes_for_batch,parameter=0.9)\n",
        "\n",
        "    print(f'train accuracy: {self.calculateAccuracy(X,Y)}')"
      ],
      "metadata": {
        "id": "EPQ7zGjg6gEk"
      },
      "execution_count": 45,
      "outputs": []
    },
    {
      "cell_type": "code",
      "source": [
        "nn = NN(hidden_layer_size=np.array([64,64,64]))\n",
        "num_train_samples = 60000\n",
        "X = X_train[:num_train_samples,:].reshape(num_train_samples,num_size).T\n",
        "Y = Y_train[:num_train_samples]\n",
        "# print(X.shape)\n",
        "nn.training(X/255,Y,batch_size=32,lr=0.01,epochs=10,optimizer_name=\"nadam\");\n",
        "\n",
        "a = nn.feedforward(X)\n",
        "# print(a,Y)\n",
        "\n",
        "# print(a,Y)\n"
      ],
      "metadata": {
        "colab": {
          "base_uri": "https://localhost:8080/"
        },
        "id": "GMaTOGnTMt7U",
        "outputId": "faccbd4f-3c48-4d00-d0f3-6674ef8b74b7"
      },
      "execution_count": 46,
      "outputs": [
        {
          "output_type": "stream",
          "name": "stdout",
          "text": [
            "epoch: 0 => loss = 1.3182002210064225\n",
            "epoch: 1 => loss = 0.9162971448213866\n",
            "epoch: 2 => loss = 0.7360371151582377\n",
            "epoch: 3 => loss = 0.6467685073564801\n",
            "epoch: 4 => loss = 0.5964834603285464\n",
            "epoch: 5 => loss = 0.5601151239647009\n",
            "epoch: 6 => loss = 0.5297551178911728\n",
            "epoch: 7 => loss = 0.503103531285148\n",
            "epoch: 8 => loss = 0.48061358819213934\n",
            "epoch: 9 => loss = 0.46174747185740406\n",
            "train accuracy: 83.58\n"
          ]
        }
      ]
    },
    {
      "cell_type": "code",
      "source": [
        "a=np.array([1,2,3,4,6])\n",
        "# np.sum(a,axis=1)\n",
        "# b=np.array([1,0,0,0,1])\n",
        "# a[b]\n",
        "# np.sum(a[b])\n",
        "a[0:2]"
      ],
      "metadata": {
        "id": "SgPgiXrKQaX2",
        "colab": {
          "base_uri": "https://localhost:8080/"
        },
        "outputId": "0794be14-217c-4c12-bf74-09ff93d98bbf"
      },
      "execution_count": null,
      "outputs": [
        {
          "output_type": "execute_result",
          "data": {
            "text/plain": [
              "array([1, 2])"
            ]
          },
          "metadata": {},
          "execution_count": 21
        }
      ]
    },
    {
      "cell_type": "code",
      "source": [
        "60000/64"
      ],
      "metadata": {
        "id": "u_nG9bau8l3Z",
        "colab": {
          "base_uri": "https://localhost:8080/"
        },
        "outputId": "ced0b338-d1e0-48f2-cb35-ec5bf865b9e0"
      },
      "execution_count": null,
      "outputs": [
        {
          "output_type": "execute_result",
          "data": {
            "text/plain": [
              "937.5"
            ]
          },
          "metadata": {},
          "execution_count": 25
        }
      ]
    },
    {
      "cell_type": "code",
      "source": [
        "a = np.array([1,2,3])\n",
        "b = np.array([[2,3,4],[2,3,4]])\n",
        "l=[a,b]\n",
        "l"
      ],
      "metadata": {
        "id": "blVyZrnnW0Jx",
        "colab": {
          "base_uri": "https://localhost:8080/"
        },
        "outputId": "bb2cf81a-cf89-4965-dab3-e755d8bf2504"
      },
      "execution_count": null,
      "outputs": [
        {
          "output_type": "execute_result",
          "data": {
            "text/plain": [
              "[array([1, 2, 3]), array([[2, 3, 4],\n",
              "        [2, 3, 4]])]"
            ]
          },
          "metadata": {},
          "execution_count": 35
        }
      ]
    },
    {
      "cell_type": "code",
      "source": [
        "p=copy.deepcopy(l)\n",
        "l[1][1][1]=5"
      ],
      "metadata": {
        "id": "Wtt1AsommrH7"
      },
      "execution_count": null,
      "outputs": []
    },
    {
      "cell_type": "code",
      "source": [
        "p"
      ],
      "metadata": {
        "colab": {
          "base_uri": "https://localhost:8080/"
        },
        "id": "vle4-0CsmvJR",
        "outputId": "c4181024-2ed9-4023-8796-323e63626070"
      },
      "execution_count": null,
      "outputs": [
        {
          "output_type": "execute_result",
          "data": {
            "text/plain": [
              "[array([1, 2, 3]), array([[2, 3, 4],\n",
              "        [2, 3, 4]])]"
            ]
          },
          "metadata": {},
          "execution_count": 37
        }
      ]
    },
    {
      "cell_type": "code",
      "source": [],
      "metadata": {
        "id": "9Gx433bhmvtO"
      },
      "execution_count": null,
      "outputs": []
    }
  ]
}